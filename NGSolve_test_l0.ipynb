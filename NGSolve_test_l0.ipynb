{
 "cells": [
  {
   "cell_type": "code",
   "execution_count": 76,
   "metadata": {},
   "outputs": [],
   "source": [
    "from ngsolve import *\n",
    "from ngsolve.webgui import Draw\n",
    "from netgen.occ import *\n",
    "import matplotlib.pyplot as plt\n",
    "import numpy as np\n",
    "import scipy as sp"
   ]
  },
  {
   "cell_type": "code",
   "execution_count": 77,
   "metadata": {},
   "outputs": [
    {
     "data": {
      "application/vnd.jupyter.widget-view+json": {
       "model_id": "9393d4918db54b06853b168758d99abd",
       "version_major": 2,
       "version_minor": 0
      },
      "text/plain": [
       "WebGuiWidget(layout=Layout(height='500px', width='100%'), value={'gui_settings': {}, 'ngsolve_version': '6.2.2…"
      ]
     },
     "metadata": {},
     "output_type": "display_data"
    },
    {
     "name": "stdout",
     "output_type": "stream",
     "text": [
      "0.015624999999999915 0.01562500000000008\n"
     ]
    }
   ],
   "source": [
    "\n",
    "netgen_mesh = unit_square.GenerateMesh(maxh=1)\n",
    "mesh=Mesh(netgen_mesh)\n",
    "mesh.Refine()\n",
    "mesh.Refine()\n",
    "mesh.Refine()\n",
    "mesh.Refine()\n",
    "mesh.Refine()\n",
    "mesh.Refine()\n",
    "\n",
    "\n",
    "\n",
    "#help(netgen_mesh)\n",
    "Draw(mesh)\n",
    "\n",
    "elvol = Integrate(CoefficientFunction(1),mesh,element_wise=True)\n",
    "h = [(2*vol)**(1/2) for vol in elvol]\n",
    "print(min(h),max(h))\n",
    "\n"
   ]
  },
  {
   "cell_type": "markdown",
   "metadata": {},
   "source": [
    "Set correct functionspaces in NGSolve, which will give the corresponding FE Elements, for l=0 its just H1 wihch will give the normal lagrangian elements, which for lowest order are the whitney 0 forms."
   ]
  },
  {
   "cell_type": "code",
   "execution_count": 78,
   "metadata": {},
   "outputs": [
    {
     "name": "stdout",
     "output_type": "stream",
     "text": [
      "number of elements in mesh:  8192\n",
      "number of dofs per element:  0\n"
     ]
    }
   ],
   "source": [
    "#set function space, for l=0 its normal lagrangian finite elements\n",
    "H_h = Compress(H1(mesh, order = 1)) # main function space\n",
    "H_H = Compress(H1(mesh, order = 2)) # high order Function space for Riesz representative\n",
    "\n",
    "print(\"number of elements in mesh: \", mesh.ne)\n",
    "print(\"number of dofs per element: \", int(H_h.ndof/mesh.ne))\n",
    "\n",
    "# gfu = GridFunction(H_h,multidim = H_h.ndof)\n",
    "# for i in range(H_h.ndof):\n",
    "#     gfu.vecs[i][i] = 0.2\n",
    "# Draw(gfu, animate = True, min = 0, max = 0.2, order = 2, deformation = True, euler_angles =[-45,-6,25]);"
   ]
  },
  {
   "cell_type": "code",
   "execution_count": 79,
   "metadata": {},
   "outputs": [],
   "source": [
    "#choose w_h and set its values on the nodes\n",
    "w = sin(x**2) + cos(y**2)\n",
    "\n",
    "w_h = GridFunction(H_h) #set the nodes\n",
    "w_h.Set(w)\n",
    "\n",
    "f_H = GridFunction(H_H, name=\"f_H\") #high order \n",
    "#w_H.Set(w) #dont need to set the high order gridfunction\n",
    "\n",
    "#Draw(w_H)"
   ]
  },
  {
   "cell_type": "markdown",
   "metadata": {},
   "source": [
    "Create the galerkin matrices used to calculate the Riesz representative"
   ]
  },
  {
   "cell_type": "code",
   "execution_count": 80,
   "metadata": {},
   "outputs": [
    {
     "data": {
      "text/plain": [
       "<ngsolve.comp.BilinearForm at 0x2d8ca8584b0>"
      ]
     },
     "execution_count": 80,
     "metadata": {},
     "output_type": "execute_result"
    }
   ],
   "source": [
    "#low order\n",
    "u_h = H_h.TrialFunction() # define the trial function\n",
    "v_h = H_h.TestFunction() # define the test function\n",
    "\n",
    "#High order\n",
    "u_H = H_H.TrialFunction() # define the trial function\n",
    "v_H= H_H.TestFunction() # define the test function\n",
    "\n",
    "# m = BilinearForm(H_H) #define m with the L2 inner product on the high order space\n",
    "# m += u_H*v_H * dx \n",
    "# m.Assemble()\n",
    "\n",
    "m = BilinearForm(H_h) #define m with the L2 inner product on the low order space\n",
    "m += u_h*v_h * dx \n",
    "m.Assemble()\n",
    "\n",
    "a = BilinearForm(H_H) # define the H1 inner product on the high order space\n",
    "a += grad(u_H) * grad(v_H) * dx\n",
    "a += u_H*v_H * dx \n",
    "a.Assemble()"
   ]
  },
  {
   "cell_type": "markdown",
   "metadata": {},
   "source": [
    "Approximate the dual norm, by the Riesz representive.\n",
    "Get the Riesz Representive by solving a LGS, since we're approximating we set the space of the Riesz represntative in a higher order space (higher polynomial degree)"
   ]
  },
  {
   "cell_type": "code",
   "execution_count": 81,
   "metadata": {},
   "outputs": [
    {
     "data": {
      "text/plain": [
       "<ngsolve.comp.BilinearForm at 0x2d8feaff6f0>"
      ]
     },
     "execution_count": 81,
     "metadata": {},
     "output_type": "execute_result"
    }
   ],
   "source": [
    "#create embedding matrix T\n",
    "\n",
    "# a_mixed = BilinearForm(trialspace=H_h, testspace=H_H)\n",
    "\n",
    "# a_dest = BilinearForm(H_H)\n",
    "\n",
    "# v_H_dual = v_H.Operator(\"dual\")\n",
    "\n",
    "# dS = dx(element_boundary=True)\n",
    "# a_dest += u_H*v_H_dual*dx + u_H*v_H_dual*dS\n",
    "# a_dest.Assemble()\n",
    "\n",
    "# a_mixed += u_h*v_H_dual*dx + u_h*v_H_dual*dS\n",
    "# a_mixed.Assemble()\n",
    "\n",
    "# #build T\n",
    "# t = a_dest.mat.Inverse() @ a_mixed.mat\n",
    "\n",
    "############################# doing it directly as a L2 projection\n",
    "\n",
    "a_mixed = BilinearForm(trialspace=H_h, testspace=H_H)\n",
    "a_mixed += u_h*v_H*dx\n",
    "a_mixed.Assemble()\n",
    "\n",
    "# a_dest = BilinearForm(H_H)\n",
    "# a_dest += u_H*v_H*dx\n",
    "# a_dest.Assemble()\n",
    "\n",
    "#t = a_dest.mat.Inverse() @ a_mixed.mat\n",
    "\n",
    "#w_H is the high order embedding of w_h\n",
    "#w_H = GridFunction(H_H, name=\"w_H\")\n",
    "#w_H.vec.data = t * w_h.vec\n",
    "\n",
    "#Draw(w_h)\n",
    "#Draw(w_H)\n",
    "\n",
    "\n",
    "######################## this works too\n",
    "\n",
    "#this feels weird, find way to get the range from space H_h itself\n",
    "#mixed = FESpace([H_h])\n",
    "\n",
    "#emb = Embedding(H_H.ndof, mixed.Range(0))\n",
    "\n",
    "#w_H.vec.data = emb * w_h.vec \n",
    "\n",
    "#Draw(w_H)\n",
    "\n",
    "#results in same shape\n",
    "# print(t.shape)\n",
    "# print(emb.shape)\n",
    "\n"
   ]
  },
  {
   "cell_type": "code",
   "execution_count": 82,
   "metadata": {},
   "outputs": [],
   "source": [
    "a_inv = a.mat.Inverse(freedofs=H_H.FreeDofs())\n",
    "\n",
    "m_inv = m.mat.Inverse(freedofs=H_h.FreeDofs())\n",
    "\n",
    "#does the same as below\n",
    "#f_H.vec.data = a_inv @ m.mat * w_H.vec\n",
    "#Draw(f_H)\n",
    "\n",
    "#solve for the riesz representative (f_H), wrong redo based on new notes\n",
    "# temp = f_H.vec.CreateVector()\n",
    "# temp.data = m.mat * w_H.vec\n",
    "# f_H.vec.data = a_inv * temp\n",
    "# Draw(f_H)\n",
    "\n"
   ]
  },
  {
   "cell_type": "markdown",
   "metadata": {},
   "source": [
    "then plug the Riesz representive in the GEV problem and solve it, where the largest Eigenvalue will be the constant we're looking for"
   ]
  },
  {
   "cell_type": "code",
   "execution_count": 83,
   "metadata": {},
   "outputs": [],
   "source": [
    "#create Matrices for GEV problem\n",
    "\n",
    "#c is the low order galerkin matrix\n",
    "c = BilinearForm(H_h)\n",
    "c += grad(u_h) * grad(v_h) * dx\n",
    "c += u_h*v_h * dx \n",
    "c.Assemble()\n",
    "\n",
    "#check norms\n",
    "# temp3 = c.mat * w_h.vec\n",
    "# w_h_norm = w_h.vec.InnerProduct(temp3)\n",
    "# print(\"H(div) norm of w_h:\", sqrt(w_h_norm)) #norm of w_h in H(div,\n",
    "\n",
    "# temp4 = a.mat * f_H.vec\n",
    "# f_H_norm = f_H.vec.InnerProduct(temp4)\n",
    "# print(\"H(div) norm of f_H, the riesz representative of w_h:\", sqrt(f_H_norm)) #norm of the riesz representative\n",
    "\n",
    "#old b\n",
    "#b = t.T @ m.mat.T @ a_inv @ m.mat @ t\n",
    "#new b, uses amixed instead of t\n",
    "b = c.mat.T @m_inv.T @ a_mixed.mat.T @ a_inv @ a_mixed.mat @ m_inv @ c.mat\n",
    "\n",
    "\n",
    "C = c.mat.ToDense().NumPy()\n",
    "# M = m.mat.ToDense().NumPy()\n",
    "# M_inv = m_inv.ToDense().NumPy()\n",
    "# A_inv = a_inv.ToDense().NumPy()\n",
    "# T = a_mixed.mat.ToDense().NumPy()\n",
    "\n",
    "#M == M.T\n",
    "# old B \n",
    "#B = T.T @ M.T @ A_inv @ M @ T\n",
    "#new B\n",
    "B = b.ToDense().NumPy() #C.T @ M_inv.T @ T.T @ A_inv @ T @ M_inv @ C"
   ]
  },
  {
   "cell_type": "code",
   "execution_count": 84,
   "metadata": {},
   "outputs": [
    {
     "name": "stdout",
     "output_type": "stream",
     "text": [
      "minimal Eigenvalue (sparse solver): [0.50235468+0.j]\n"
     ]
    }
   ],
   "source": [
    "#solve GEV using the scipy solver s\n",
    "\n",
    "#currently still not correct\n",
    "\n",
    "#y = sp.linalg.eigvals(C,B)\n",
    "x = sp.sparse.linalg.eigs(C, k=1, M=B, which='SM', return_eigenvectors=False)\n",
    "#print(\"maximal Eigenvalue:\",max(y))\n",
    "#print(\"minimal Eigenvalue:\",min(y))\n",
    "print(\"minimal Eigenvalue (sparse solver):\",x)\n"
   ]
  },
  {
   "cell_type": "markdown",
   "metadata": {},
   "source": [
    "h = 1, minEV = 0.76720499\n",
    "h = 0.5, minEV = 0.76004237\n",
    "h = 0.25, minEV = 0.59529111\n",
    "h = 0.125, minEV = 0.52461719 \n",
    "h = 0.0625, minEV = 0.50758144\n",
    "h = 0.03125, minEv = 0.50339601\n",
    "h = 0.015625 , minEV = 0.50235468"
   ]
  }
 ],
 "metadata": {
  "kernelspec": {
   "display_name": "Python 3",
   "language": "python",
   "name": "python3"
  },
  "language_info": {
   "codemirror_mode": {
    "name": "ipython",
    "version": 3
   },
   "file_extension": ".py",
   "mimetype": "text/x-python",
   "name": "python",
   "nbconvert_exporter": "python",
   "pygments_lexer": "ipython3",
   "version": "3.11.5"
  }
 },
 "nbformat": 4,
 "nbformat_minor": 4
}
