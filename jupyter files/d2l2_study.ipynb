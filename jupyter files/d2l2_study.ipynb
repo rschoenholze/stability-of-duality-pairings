{
 "cells": [
  {
   "cell_type": "code",
   "execution_count": 1,
   "metadata": {},
   "outputs": [
    {
     "name": "stdout",
     "output_type": "stream",
     "text": [
      "h= 1.0 \n",
      "\n"
     ]
    },
    {
     "name": "stderr",
     "output_type": "stream",
     "text": [
      "c:\\Users\\ramon\\AppData\\Local\\Programs\\Python\\Python310\\lib\\site-packages\\scipy\\sparse\\linalg\\_eigen\\arpack\\arpack.py:1272: RuntimeWarning: k >= N - 1 for N * N square matrix. Attempting to use scipy.linalg.eig instead.\n",
      "  warnings.warn(\"k >= N - 1 for N * N square matrix. \"\n"
     ]
    },
    {
     "name": "stdout",
     "output_type": "stream",
     "text": [
      "[1.+0.j 1.+0.j]\n",
      "[1. 1.]\n",
      "\n",
      "\n",
      "h= 0.5 \n",
      "\n",
      "[1.+0.j]\n",
      "[1.]\n",
      "\n",
      "\n",
      "h= 0.25 \n",
      "\n",
      "[1.+1.77645768e-18j]\n",
      "[1.]\n",
      "\n",
      "\n",
      "h= 0.125 \n",
      "\n",
      "[1.+1.59359225e-17j]\n",
      "[1.]\n",
      "\n",
      "\n"
     ]
    },
    {
     "data": {
      "image/png": "[encoded data removed]",
      "text/plain": [
       "<Figure size 640x480 with 1 Axes>"
      ]
     },
     "metadata": {},
     "output_type": "display_data"
    }
   ],
   "source": [
    "from ngsolve import *\n",
    "from ngsolve.webgui import Draw\n",
    "from netgen.occ import *\n",
    "import matplotlib.pyplot as plt\n",
    "import numpy as np\n",
    "import scipy as sp\n",
    "\n",
    "meshwidths = np.array([1.0,0.5,0.25,0.125]) \n",
    "l = len(meshwidths)\n",
    "minEV = np.zeros(len(meshwidths))\n",
    "\n",
    "k = 0\n",
    "\n",
    "netgen_mesh =unit_square.GenerateMesh(maxh=1)\n",
    "mesh=Mesh(netgen_mesh)\n",
    "\n",
    "for h in meshwidths:\n",
    "    print(\"h=\",h, \"\\n\")\n",
    "    #Draw(mesh)\n",
    "\n",
    "    #set function space for d=2 l=2 \n",
    "    #need to compress to remove DOFs of unrefined mesh after refinement\n",
    "    H_h = Compress(L2(mesh, order = 0, complex=True)) # main function space\n",
    "    H_H = Compress(L2(mesh, order = 1, complex=True)) # high order Function space for Riesz representative  \n",
    "\n",
    "    #low order trial and test function\n",
    "    u_h = H_h.TrialFunction() \n",
    "    v_h = H_h.TestFunction() \n",
    "    #High order trial and test function\n",
    "    u_H = H_H.TrialFunction() \n",
    "    v_H= H_H.TestFunction() \n",
    "\n",
    "    m = BilinearForm(H_h) #define m with the L2 inner product on the low order space\n",
    "    m += u_h*v_h * dx \n",
    "    m.Assemble()\n",
    "\n",
    "    a = BilinearForm(H_H) # define the L2 inner product on the high order space\n",
    "    a += u_H*v_H * dx \n",
    "    a.Assemble()\n",
    "\n",
    "\n",
    "    #mass matrix with mixed basis functions\n",
    "    a_mixed = BilinearForm(trialspace=H_h, testspace=H_H)\n",
    "    a_mixed += u_h*v_H*dx\n",
    "    a_mixed.Assemble()\n",
    "\n",
    "    #compute inverses \n",
    "    a_inv = a.mat.Inverse(freedofs=H_H.FreeDofs())\n",
    "\n",
    "    m_inv = m.mat.Inverse(freedofs=H_h.FreeDofs())\n",
    "\n",
    "    #create Matrices for GEV problem\n",
    "\n",
    "    #c is the low order galerkin matrix\n",
    "    c = BilinearForm(H_h)\n",
    "    c += u_h*v_h * dx \n",
    "    c.Assemble()\n",
    "\n",
    "    #faster, but might give problems\n",
    "    # m==m.t\n",
    "    b = c.mat.T @m_inv.T @ a_mixed.mat.T @ a_inv @ a_mixed.mat @ m_inv @ c.mat\n",
    "    B = b.ToDense().NumPy()\n",
    "\n",
    "    C = c.mat.ToDense().NumPy()\n",
    "\n",
    "    #For dense calc in Numpy\n",
    "    # M = m.mat.ToDense().NumPy()\n",
    "    # A_inv = a_inv.ToDense().NumPy()\n",
    "    # T = t.ToDense().NumPy()\n",
    "\n",
    "    # #M == M.T \n",
    "    # B = T.T @ M.T @ A_inv @ M @ T\n",
    "\n",
    "    EV = sp.sparse.linalg.eigs(C,k=1, M=B, which='SM', return_eigenvectors=False)\n",
    "    print(EV)\n",
    "    lam_abs = np.abs(EV)\n",
    "    print(lam_abs)\n",
    "    minEV[k] = lam_abs[0]\n",
    "\n",
    "    #iteration update\n",
    "    k = k + 1\n",
    "    #uniformly refines mesh, halving meshwidth\n",
    "    mesh.Refine()\n",
    "    print(\"\\n\")\n",
    "\n",
    "fig, ax = plt.subplots()\n",
    "plt.grid(visible=True)\n",
    "plt.loglog(meshwidths,minEV, 'o-', label=\"minimal eigenvalues\")\n",
    "plt.loglog(meshwidths,np.ones(l) + 0.5,'o-', label=\"O(c)\")\n",
    "# plt.loglog(meshwidths,np.power(meshwidths,2),'o-', label=\"O(h^2)\")\n",
    "# plt.loglog(meshwidths,np.power(meshwidths,3),'o-', label=\"O(h^3)\")\n",
    "# plt.loglog(meshwidths,np.power(meshwidths,4),'o-', label=\"O(h^4)\")\n",
    "plt.xlabel('meshwidth h')\n",
    "plt.ylabel('minimal Eigenvalue')\n",
    "plt.title('d=2,l=2')\n",
    "plt.legend()\n",
    "plt.show()\n"
   ]
  }
 ],
 "metadata": {
  "kernelspec": {
   "display_name": "Python 3",
   "language": "python",
   "name": "python3"
  },
  "language_info": {
   "codemirror_mode": {
    "name": "ipython",
    "version": 3
   },
   "file_extension": ".py",
   "mimetype": "text/x-python",
   "name": "python",
   "nbconvert_exporter": "python",
   "pygments_lexer": "ipython3",
   "version": "3.10.6"
  }
 },
 "nbformat": 4,
 "nbformat_minor": 2
}
