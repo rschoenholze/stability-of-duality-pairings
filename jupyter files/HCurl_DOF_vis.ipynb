{
 "cells": [
  {
   "cell_type": "code",
   "execution_count": null,
   "metadata": {},
   "outputs": [],
   "source": [
    "from ngsolve import *\n",
    "from ngsolve.webgui import Draw\n",
    "\n",
    "from netgen.occ import *\n",
    "\n",
    "\n",
    "\n",
    "netgen_mesh = unit_square.GenerateMesh(maxh=1)\n",
    "\n",
    "mesh = Mesh(netgen_mesh)\n",
    "\n",
    "print(mesh.nv)\n",
    "Draw(mesh)"
   ]
  },
  {
   "cell_type": "markdown",
   "metadata": {},
   "source": [
    "Visualizing the DOFs for type1=True , order = 0"
   ]
  },
  {
   "cell_type": "code",
   "execution_count": null,
   "metadata": {},
   "outputs": [],
   "source": [
    "\n",
    "#for complex = false we can visalize the dofs \n",
    "H_h = HCurl(mesh, order = 0, type1=True, complex=False) \n",
    "\n",
    "gfu = GridFunction(H_h,multidim = H_h.ndof)\n",
    "\n",
    "print(H_h.ndof)\n",
    "\n",
    "for i in range(H_h.ndof):\n",
    "    gfu.vecs[i][i] = 1.0\n",
    "Draw(gfu, animate = True, min = 0, max = 2.0, deformation = False)\n",
    "\n"
   ]
  },
  {
   "cell_type": "markdown",
   "metadata": {},
   "source": [
    "Visualizing the DOFs for type1=True , order = 1"
   ]
  },
  {
   "cell_type": "code",
   "execution_count": null,
   "metadata": {},
   "outputs": [],
   "source": [
    "#for complex = false we can visalize the dofs \n",
    "H_h = HCurl(mesh, order = 1, type1=True, complex=False) \n",
    "\n",
    "gfu = GridFunction(H_h,multidim = H_h.ndof)\n",
    "\n",
    "print(H_h.ndof)\n",
    "\n",
    "for i in range(H_h.ndof):\n",
    "    gfu.vecs[i][i] = 1.0\n",
    "Draw(gfu, animate = True, min = 0, max = 2.0, deformation = False)"
   ]
  },
  {
   "cell_type": "markdown",
   "metadata": {},
   "source": [
    "Visualizing the DOFs for type1=False , order = 0"
   ]
  },
  {
   "cell_type": "code",
   "execution_count": null,
   "metadata": {},
   "outputs": [],
   "source": [
    "#for complex = false we can visalize the dofs \n",
    "H_h = HCurl(mesh, order = 0, type1=False, complex=False) \n",
    "\n",
    "gfu = GridFunction(H_h,multidim = H_h.ndof)\n",
    "\n",
    "print(H_h.ndof)\n",
    "\n",
    "for i in range(H_h.ndof):\n",
    "    gfu.vecs[i][i] = 1.0\n",
    "Draw(gfu, animate = True, min = 0, max = 2.0, deformation = False)"
   ]
  },
  {
   "cell_type": "markdown",
   "metadata": {},
   "source": [
    "Visualizing the DOFs for type1=False , order = 1"
   ]
  },
  {
   "cell_type": "code",
   "execution_count": null,
   "metadata": {},
   "outputs": [],
   "source": [
    "#for complex = false we can visalize the dofs \n",
    "H_h = HCurl(mesh, order = 1, type1=False, complex=False) \n",
    "\n",
    "gfu = GridFunction(H_h,multidim = H_h.ndof)\n",
    "\n",
    "print(H_h.ndof)\n",
    "\n",
    "for i in range(H_h.ndof):\n",
    "    gfu.vecs[i][i] = 1.0\n",
    "Draw(gfu, animate = True, min = 0, max = 2.0, deformation = False)"
   ]
  }
 ],
 "metadata": {
  "kernelspec": {
   "display_name": "Python 3",
   "language": "python",
   "name": "python3"
  },
  "language_info": {
   "codemirror_mode": {
    "name": "ipython",
    "version": 3
   },
   "file_extension": ".py",
   "mimetype": "text/x-python",
   "name": "python",
   "nbconvert_exporter": "python",
   "pygments_lexer": "ipython3",
   "version": "3.10.6"
  }
 },
 "nbformat": 4,
 "nbformat_minor": 2
}
