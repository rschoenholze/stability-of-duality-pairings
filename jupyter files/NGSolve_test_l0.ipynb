{
 "cells": [
  {
   "cell_type": "code",
   "execution_count": 1,
   "metadata": {},
   "outputs": [],
   "source": [
    "from ngsolve import *\n",
    "from ngsolve.webgui import Draw\n",
    "from netgen.occ import *\n",
    "from netgen.geom2d import SplineGeometry\n",
    "import matplotlib.pyplot as plt\n",
    "import numpy as np\n",
    "import scipy as sp"
   ]
  },
  {
   "cell_type": "code",
   "execution_count": 2,
   "metadata": {},
   "outputs": [
    {
     "name": "stdout",
     "output_type": "stream",
     "text": [
      "2\n",
      "F0 (V0, V1, V2)\n",
      "F1 (V0, V2, V3)\n",
      "V0 (0.0, 0.0)\n",
      "V1 (1.0, 0.0)\n",
      "V2 (1.0, 1.0)\n",
      "V3 (0.0, 1.0000000000000002)\n"
     ]
    },
    {
     "data": {
      "application/vnd.jupyter.widget-view+json": {
       "model_id": "b4ab6637f9454e99b007e554a463e8d3",
       "version_major": 2,
       "version_minor": 0
      },
      "text/plain": [
       "WebGuiWidget(layout=Layout(height='500px', width='100%'), value={'gui_settings': {}, 'ngsolve_version': '6.2.2…"
      ]
     },
     "metadata": {},
     "output_type": "display_data"
    },
    {
     "name": "stdout",
     "output_type": "stream",
     "text": [
      "0.999999999999998 0.9999999999999981\n"
     ]
    }
   ],
   "source": [
    "#4 by 4 square\n",
    "# geo = SplineGeometry()\n",
    "# geo.AddRectangle((-2,-2),(2,2))\n",
    "# netgen_mesh = geo.GenerateMesh(maxh=4)\n",
    "# mesh=Mesh(netgen_mesh)\n",
    "meshwidth=1.0\n",
    "netgen_mesh = unit_square.GenerateMesh(maxh=meshwidth)\n",
    "\n",
    "mesh=Mesh(netgen_mesh) # 1.0\n",
    "#help(mesh)\n",
    "print(mesh.nface)\n",
    "#help(mesh)\n",
    "\n",
    "# for l in range(0):\n",
    "#     mesh.Refine()\n",
    "#     print(mesh.nface)\n",
    "#     mesh.ngmesh.SplitPowellSabin()\n",
    "#     print(mesh.nface)\n",
    "#     meshwidth = meshwidth/2 \n",
    "\n",
    "for f in mesh.faces:\n",
    "    print (f, f.vertices)\n",
    "\n",
    "for v in mesh.vertices:\n",
    "    print(v, v.point)\n",
    "\n",
    "#help( mesh.vertices)\n",
    "\n",
    "#print(mesh.ne)\n",
    "\n",
    "#help(netgen_mesh)\n",
    "Draw(mesh)\n",
    "\n",
    "#print(meshwidth)\n",
    "\n",
    "elvol = Integrate(CoefficientFunction(1),mesh,element_wise=True)\n",
    "h = [(2*vol)**(1/2) for vol in elvol]\n",
    "print(min(h),max(h))\n",
    "\n"
   ]
  },
  {
   "cell_type": "markdown",
   "metadata": {},
   "source": [
    "Set correct functionspaces in NGSolve, which will give the corresponding FE Elements, for l=0 its just H1 wihch will give the normal lagrangian elements, which for lowest order are the whitney 0 forms."
   ]
  },
  {
   "cell_type": "code",
   "execution_count": 3,
   "metadata": {},
   "outputs": [
    {
     "name": "stdout",
     "output_type": "stream",
     "text": [
      "4\n",
      "9\n"
     ]
    }
   ],
   "source": [
    "#set function space, for l=0 its normal lagrangian finite elements\n",
    "H_h = Compress(H1(mesh, order = 1, complex=False)) # main function space\n",
    "print(H_h.ndof)\n",
    "\n",
    "#doestn like to draw gridfuntion on this\n",
    "#mesh.ngmesh.SplitPowellSabin()\n",
    "\n",
    "H_H = Compress(H1(mesh, order = 2, complex=False)) # high order Function space for Riesz representative\n",
    "print(H_H.ndof)\n",
    "\n",
    "\n",
    "#L_2 = L2(mesh, order=0)\n",
    "\n",
    "# print(\"number of elements in mesh: \", mesh.ne)\n",
    "# print(\"number of dofs per element: \", int(H_h.ndof/mesh.ne))\n",
    "\n",
    "#gfu = GridFunction(H_h,multidim = H_h.ndof)\n",
    "# for i in range(H_h.ndof):\n",
    "#     gfu.vecs[i][i] = 0.2\n",
    "# Draw(gfu, animate = True, min = 0, max = 0.2, order = 2, deformation = True, euler_angles =[-45,-6,25]);\n",
    "\n",
    "#Draw(gfu)\n",
    "\n",
    "\n",
    "#print(H_H.ndof)"
   ]
  },
  {
   "cell_type": "code",
   "execution_count": 4,
   "metadata": {},
   "outputs": [],
   "source": [
    "#choose w_h and set its values on the nodes\n",
    "w = sin(x**2) + cos(y**2)\n",
    "\n",
    "# w_h = GridFunction(H_h) #set the nodes\n",
    "# w_h.Set(w)\n",
    "\n",
    "f_H = GridFunction(H_H, name=\"f_H\") #high order \n",
    "#w_H.Set(w) #dont need to set the high order gridfunction\n",
    "\n",
    "#Draw(w_H)"
   ]
  },
  {
   "cell_type": "markdown",
   "metadata": {},
   "source": [
    "Create the galerkin matrices used to calculate the Riesz representative"
   ]
  },
  {
   "cell_type": "code",
   "execution_count": 5,
   "metadata": {},
   "outputs": [
    {
     "data": {
      "text/plain": [
       "<ngsolve.comp.BilinearForm at 0x289ff9816f0>"
      ]
     },
     "execution_count": 5,
     "metadata": {},
     "output_type": "execute_result"
    }
   ],
   "source": [
    "#low order\n",
    "u_h = H_h.TrialFunction() # define the trial function\n",
    "v_h = H_h.TestFunction() # define the test function\n",
    "\n",
    "#High order\n",
    "u_H = H_H.TrialFunction() # define the trial function\n",
    "v_H= H_H.TestFunction() # define the test function\n",
    "\n",
    "# m = BilinearForm(H_H) #define m with the L2 inner product on the high order space\n",
    "# m += u_H*v_H * dx \n",
    "# m.Assemble()\n",
    "\n",
    "m = BilinearForm(H_h,symmetric_storage=True, symmetric=True) #define m with the L2 inner product on the low order space\n",
    "m += u_h*v_h * dx \n",
    "m.Assemble()\n",
    "\n",
    "a = BilinearForm(H_H, symmetric_storage=False, symmetric=True) # define the H1 inner product on the high order space\n",
    "a += grad(u_H) * grad(v_H) * dx\n",
    "a += u_H*v_H * dx \n",
    "a.Assemble()\n",
    "\n",
    "\n",
    "#help(BilinearForm)"
   ]
  },
  {
   "cell_type": "markdown",
   "metadata": {},
   "source": [
    "Approximate the dual norm, by the Riesz representive.\n",
    "Get the Riesz Representive by solving a LGS, since we're approximating we set the space of the Riesz represntative in a higher order space (higher polynomial degree)"
   ]
  },
  {
   "cell_type": "code",
   "execution_count": 6,
   "metadata": {},
   "outputs": [
    {
     "name": "stdout",
     "output_type": "stream",
     "text": [
      " 0.166667 0.0416667 0.0833333 0.0416667\n",
      " 0.0416667 0.0833333 0.0416667       0\n",
      " 0.0833333 0.0416667 0.166667 0.0416667\n",
      " 0.0416667       0 0.0416667 0.0833333\n",
      " -0.00833333 -0.00833333 -0.00416667       0\n",
      " -0.0166667 -0.00416667 -0.0166667 -0.00416667\n",
      " -0.00833333       0 -0.00416667 -0.00833333\n",
      " -0.00416667 -0.00833333 -0.00833333       0\n",
      " -0.00416667       0 -0.00833333 -0.00833333\n",
      "\n"
     ]
    }
   ],
   "source": [
    "#create embedding matrix T\n",
    "\n",
    "# a_mixed = BilinearForm(trialspace=H_h, testspace=H_H)\n",
    "\n",
    "# a_dest = BilinearForm(H_H)\n",
    "\n",
    "# v_H_dual = v_H.Operator(\"dual\")\n",
    "\n",
    "# dS = dx(element_boundary=True)\n",
    "# a_dest += u_H*v_H_dual*dx + u_H*v_H_dual*dS\n",
    "# a_dest.Assemble()\n",
    "\n",
    "# a_mixed += u_h*v_H_dual*dx + u_h*v_H_dual*dS\n",
    "# a_mixed.Assemble()\n",
    "\n",
    "# #build T\n",
    "# t = a_dest.mat.Inverse() @ a_mixed.mat\n",
    "\n",
    "############################# doing it directly as a L2 projection\n",
    "\n",
    "a_mixed = BilinearForm(trialspace=H_h, testspace=H_H)\n",
    "a_mixed += u_h*v_H*dx\n",
    "a_mixed.Assemble()\n",
    "\n",
    "print(a_mixed.mat.ToDense())\n",
    "\n",
    "# a_dest = BilinearForm(H_H)\n",
    "# a_dest += u_H*v_H*dx\n",
    "# a_dest.Assemble()\n",
    "\n",
    "#t = a_dest.mat.Inverse() @ a_mixed.mat\n",
    "\n",
    "#w_H is the high order embedding of w_h\n",
    "#w_H = GridFunction(H_H, name=\"w_H\")\n",
    "#w_H.vec.data = t * w_h.vec\n",
    "\n",
    "#Draw(w_h)\n",
    "#Draw(w_H)\n",
    "\n",
    "\n",
    "######################## this works too\n",
    "\n",
    "#this feels weird, find way to get the range from space H_h itself\n",
    "#mixed = FESpace([H_h])\n",
    "\n",
    "#emb = Embedding(H_H.ndof, mixed.Range(0))\n",
    "\n",
    "#w_H.vec.data = emb * w_h.vec \n",
    "\n",
    "#Draw(w_H)\n",
    "\n",
    "#results in same shape\n",
    "# print(t.shape)\n",
    "# print(emb.shape)\n",
    "\n"
   ]
  },
  {
   "cell_type": "code",
   "execution_count": 7,
   "metadata": {},
   "outputs": [],
   "source": [
    "#help(a.mat.Inverse(freedofs=H_H.FreeDofs()))\n",
    "a_inv = a.mat.Inverse(freedofs=H_H.FreeDofs())\n",
    "#print(H_h.FreeDofs())\n",
    "m_inv = m.mat.Inverse(freedofs=H_h.FreeDofs())\n",
    "\n",
    "#does the same as below\n",
    "#f_H.vec.data = a_inv @ m.mat * w_H.vec\n",
    "#Draw(f_H)\n",
    "\n",
    "#solve for the riesz representative (f_H), wrong redo based on new notes\n",
    "# temp = f_H.vec.CreateVector()\n",
    "# temp.data = m.mat * w_H.vec\n",
    "# f_H.vec.data = a_inv * temp\n",
    "# Draw(f_H)\n",
    "\n"
   ]
  },
  {
   "cell_type": "markdown",
   "metadata": {},
   "source": [
    "then plug the Riesz representive in the GEV problem and solve it, where the largest Eigenvalue will be the constant we're looking for"
   ]
  },
  {
   "cell_type": "code",
   "execution_count": 8,
   "metadata": {},
   "outputs": [
    {
     "name": "stdout",
     "output_type": "stream",
     "text": [
      " 1.36196 -0.614264  0.1999 -0.614264\n",
      " -0.614264  1.2491 -0.614264 0.146093\n",
      "  0.1999 -0.614264 1.36196 -0.614264\n",
      " -0.614264 0.146093 -0.614264  1.2491\n",
      "\n"
     ]
    }
   ],
   "source": [
    "#create Matrices for GEV problem\n",
    "\n",
    "#c is the low order galerkin matrix\n",
    "c = BilinearForm(H_h, symmetric=True, symmetric_storage=True)\n",
    "c += grad(u_h) * grad(v_h) * dx\n",
    "c += u_h*v_h * dx \n",
    "c.Assemble()\n",
    "\n",
    "#check norms\n",
    "# temp3 = c.mat * w_h.vec\n",
    "# w_h_norm = w_h.vec.InnerProduct(temp3)\n",
    "# print(\"H(div) norm of w_h:\", sqrt(w_h_norm)) #norm of w_h in H(div,\n",
    "\n",
    "# temp4 = a.mat * f_H.vec\n",
    "# f_H_norm = f_H.vec.InnerProduct(temp4)\n",
    "# print(\"H(div) norm of f_H, the riesz representative of w_h:\", sqrt(f_H_norm)) #norm of the riesz representative\n",
    "\n",
    "#old b\n",
    "#b = t.T @ m.mat.T @ a_inv @ m.mat @ t\n",
    "#new b, uses amixed instead of t\n",
    "b = c.mat @m_inv @ a_mixed.mat.T @ a_inv @ a_mixed.mat @ m_inv @ c.mat\n",
    "\n",
    "#evem wiith complex space no complex values\n",
    "#print(a_mixed.mat)\n",
    "\n",
    "# C = c.mat.ToDense().NumPy()\n",
    "# M = m.mat.ToDense().NumPy()\n",
    "# M_inv = m_inv.ToDense().NumPy()\n",
    "# A_inv = a_inv.ToDense().NumPy()\n",
    "# T = a_mixed.mat.ToDense().NumPy()\n",
    "\n",
    "# #M == M.T\n",
    "# # old B \n",
    "# #B = T.T @ M.T @ A_inv @ M @ T\n",
    "# #new B\n",
    "# B = b.ToDense().NumPy() #C.T @ M_inv.T @ T.T @ A_inv @ T @ M_inv @ C\n",
    "# B_d = C.T @ M_inv.T @ T.T @ A_inv @ T @ M_inv @ C\n",
    "\n",
    "print(b.ToDense())\n",
    "\n",
    "#practically 0 everywhere\n",
    "#print(B - B_d)"
   ]
  },
  {
   "cell_type": "code",
   "execution_count": 9,
   "metadata": {},
   "outputs": [
    {
     "ename": "NameError",
     "evalue": "name 'C' is not defined",
     "output_type": "error",
     "traceback": [
      "\u001b[1;31m---------------------------------------------------------------------------\u001b[0m",
      "\u001b[1;31mNameError\u001b[0m                                 Traceback (most recent call last)",
      "Cell \u001b[1;32mIn[9], line 6\u001b[0m\n\u001b[0;32m      1\u001b[0m \u001b[38;5;66;03m#solve GEV using the scipy solver s\u001b[39;00m\n\u001b[0;32m      2\u001b[0m \n\u001b[0;32m      3\u001b[0m \u001b[38;5;66;03m#currently still not correct\u001b[39;00m\n\u001b[0;32m      4\u001b[0m \n\u001b[0;32m      5\u001b[0m \u001b[38;5;66;03m#y = sp.linalg.eigvals(C,B)\u001b[39;00m\n\u001b[1;32m----> 6\u001b[0m x \u001b[38;5;241m=\u001b[39m sp\u001b[38;5;241m.\u001b[39msparse\u001b[38;5;241m.\u001b[39mlinalg\u001b[38;5;241m.\u001b[39meigs(\u001b[43mC\u001b[49m, k\u001b[38;5;241m=\u001b[39m\u001b[38;5;241m1\u001b[39m, M\u001b[38;5;241m=\u001b[39mB, which\u001b[38;5;241m=\u001b[39m\u001b[38;5;124m'\u001b[39m\u001b[38;5;124mSM\u001b[39m\u001b[38;5;124m'\u001b[39m, return_eigenvectors\u001b[38;5;241m=\u001b[39m\u001b[38;5;28;01mFalse\u001b[39;00m)\n\u001b[0;32m      7\u001b[0m \u001b[38;5;66;03m#print(\"maximal Eigenvalue:\",max(y))\u001b[39;00m\n\u001b[0;32m      8\u001b[0m \u001b[38;5;66;03m#print(\"minimal Eigenvalue:\",min(y))\u001b[39;00m\n\u001b[0;32m      9\u001b[0m \u001b[38;5;28mprint\u001b[39m(\u001b[38;5;124m\"\u001b[39m\u001b[38;5;124mminimal Eigenvalue (sparse solver):\u001b[39m\u001b[38;5;124m\"\u001b[39m,x)\n",
      "\u001b[1;31mNameError\u001b[0m: name 'C' is not defined"
     ]
    }
   ],
   "source": [
    "#solve GEV using the scipy solver s\n",
    "\n",
    "#currently still not correct\n",
    "\n",
    "#y = sp.linalg.eigvals(C,B)\n",
    "x = sp.sparse.linalg.eigs(C, k=1, M=B, which='SM', return_eigenvectors=False)\n",
    "#print(\"maximal Eigenvalue:\",max(y))\n",
    "#print(\"minimal Eigenvalue:\",min(y))\n",
    "print(\"minimal Eigenvalue (sparse solver):\",x)\n"
   ]
  },
  {
   "cell_type": "code",
   "execution_count": null,
   "metadata": {},
   "outputs": [
    {
     "name": "stdout",
     "output_type": "stream",
     "text": [
      "[0.76720499+0.j]\n"
     ]
    }
   ],
   "source": [
    "w_h = GridFunction(H_h)\n",
    "\n",
    "tmp1 = w_h.vec.CreateVector()\n",
    "tmp2 = w_h.vec.CreateVector()\n",
    "def matvec_b(v):\n",
    "    tmp1.data = v\n",
    "    tmp2.data = b * tmp1\n",
    "    return tmp2.FV().NumPy()\n",
    "\n",
    "tmp3 = w_h.vec.CreateVector()\n",
    "tmp4 = w_h.vec.CreateVector()\n",
    "def matvec_c(v):\n",
    "    tmp3.FV().NumPy()[:] = v\n",
    "    tmp4.data = c.mat * tmp3\n",
    "    return tmp4.FV().NumPy()\n",
    "\n",
    "B_ = sp.sparse.linalg.LinearOperator((b.height,b.width), matvec_b)\n",
    "C_ = sp.sparse.linalg.LinearOperator((c.mat.height,c.mat.width), matvec_c)\n",
    "x = sp.sparse.linalg.eigs(C_, k=1, M=B_, which='SM', return_eigenvectors=False)\n",
    "\n",
    "print(x)"
   ]
  },
  {
   "cell_type": "markdown",
   "metadata": {},
   "source": [
    "h = 1, minEV = 0.76720499\n",
    "h = 0.5, minEV = 0.76004237\n",
    "h = 0.25, minEV = 0.59529111\n",
    "h = 0.125, minEV = 0.52461719 \n",
    "h = 0.0625, minEV = 0.50758144\n",
    "h = 0.03125, minEv = 0.50339601\n",
    "h = 0.015625 , minEV = 0.50235468"
   ]
  }
 ],
 "metadata": {
  "kernelspec": {
   "display_name": "Python 3",
   "language": "python",
   "name": "python3"
  },
  "language_info": {
   "codemirror_mode": {
    "name": "ipython",
    "version": 3
   },
   "file_extension": ".py",
   "mimetype": "text/x-python",
   "name": "python",
   "nbconvert_exporter": "python",
   "pygments_lexer": "ipython3",
   "version": "3.10.6"
  }
 },
 "nbformat": 4,
 "nbformat_minor": 4
}
