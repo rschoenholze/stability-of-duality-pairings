{
 "cells": [
  {
   "cell_type": "code",
   "execution_count": 1,
   "metadata": {},
   "outputs": [],
   "source": [
    "from ngsolve import *\n",
    "from ngsolve.webgui import Draw\n",
    "from netgen.occ import *\n",
    "import matplotlib.pyplot as plt\n",
    "import numpy as np\n",
    "import scipy as sp"
   ]
  },
  {
   "cell_type": "code",
   "execution_count": null,
   "metadata": {},
   "outputs": [],
   "source": [
    "\n",
    "netgen_mesh = unit_square.GenerateMesh(maxh=1)\n",
    "#netgen_mesh.Refine()\n",
    "mesh=Mesh(netgen_mesh)\n",
    "# mesh.Refine(onlyonce=False)\n",
    "mesh.Refine(onlyonce=False)\n",
    "Draw(mesh)\n",
    "elvol = Integrate(CoefficientFunction(1),mesh,element_wise=True)\n",
    "h = [(2*vol)**(1/2) for vol in elvol]\n",
    "print(min(h),max(h))\n"
   ]
  },
  {
   "cell_type": "markdown",
   "metadata": {},
   "source": [
    "Set correct functionspaces in NGSolve, which will give the corresponding FE Elements, for l=0 its just H1 wihch will give the normal lagrangian elements, which for lowest order are the whitney 0 forms."
   ]
  },
  {
   "cell_type": "code",
   "execution_count": null,
   "metadata": {},
   "outputs": [],
   "source": [
    "#set function space, for l=0 its normal lagrangian finite elements\n",
    "H_h = Compress(HDiv(mesh, order = 1, RT=True)) # main function space\n",
    "H_H = Compress(HDiv(mesh, order = 2, RT=True)) # high order Function space for Riesz representative\n"
   ]
  },
  {
   "cell_type": "code",
   "execution_count": null,
   "metadata": {},
   "outputs": [],
   "source": [
    "#choose w_h and set its values on the nodes\n",
    "w = (sin(x), cos(y))\n",
    "\n",
    "w_h = GridFunction(H_h) #set the nodes\n",
    "w_h.Set(w)\n",
    "\n",
    "f_H = GridFunction(H_H, name=\"f_H\") #high order \n",
    "#w_H.Set(w) #dont need to set the high order gridfunction\n",
    "\n",
    "#Draw(w_H)"
   ]
  },
  {
   "cell_type": "markdown",
   "metadata": {},
   "source": [
    "Create the galerkin matrices used to calculate the Riesz representative"
   ]
  },
  {
   "cell_type": "code",
   "execution_count": null,
   "metadata": {},
   "outputs": [],
   "source": [
    "#low order\n",
    "u_h = H_h.TrialFunction() # define the trial function\n",
    "v_h = H_h.TestFunction() # define the test function\n",
    "\n",
    "#High order\n",
    "u_H = H_H.TrialFunction() # define the trial function\n",
    "v_H= H_H.TestFunction() # define the test function\n",
    "\n",
    "m = BilinearForm(H_H) #define m with the L2 inner product on the high order space\n",
    "m += u_H*v_H * dx \n",
    "m.Assemble()\n",
    "\n",
    "a = BilinearForm(H_H) # define the H1 inner product on the high order space\n",
    "a += div(u_H) * div(v_H) * dx\n",
    "a += u_H*v_H * dx \n",
    "a.Assemble()"
   ]
  },
  {
   "cell_type": "markdown",
   "metadata": {},
   "source": [
    "Approximate the dual norm, by the Riesz representive.\n",
    "Get the Riesz Representive by solving a LGS, since we're approximating we set the space of the Riesz represntative in a higher order space (higher polynomial degree)"
   ]
  },
  {
   "cell_type": "code",
   "execution_count": null,
   "metadata": {},
   "outputs": [],
   "source": [
    "#create embedding matrix T\n",
    "\n",
    "# a_mixed = BilinearForm(trialspace=H_h, testspace=H_H)\n",
    "\n",
    "# a_dest = BilinearForm(H_H)\n",
    "\n",
    "# v_H_dual = v_H.Operator(\"dual\")\n",
    "\n",
    "# dS = dx(element_boundary=True)\n",
    "# a_dest += u_H*v_H_dual*dx + u_H*v_H_dual*dS\n",
    "# a_dest.Assemble()\n",
    "\n",
    "# a_mixed += u_h*v_H_dual*dx + u_h*v_H_dual*dS\n",
    "# a_mixed.Assemble()\n",
    "\n",
    "# #build T\n",
    "# t = a_dest.mat.Inverse() @ a_mixed.mat\n",
    "\n",
    "############################# doing it directly as a L2 projection\n",
    "\n",
    "a_mixed = BilinearForm(trialspace=H_h, testspace=H_H)\n",
    "a_mixed += u_h*v_H*dx\n",
    "a_mixed.Assemble()\n",
    "print(a_mixed.mat.shape)\n",
    "\n",
    "a_dest = BilinearForm(H_H)\n",
    "a_dest += u_H*v_H*dx\n",
    "a_dest.Assemble()\n",
    "\n",
    "t = a_dest.mat.Inverse() @ a_mixed.mat\n",
    "\n",
    "#w_H is the high order embedding of w_h\n",
    "w_H = GridFunction(H_H, name=\"w_H\")\n",
    "w_H.vec.data = t * w_h.vec\n",
    "\n",
    "Draw(w_h)\n",
    "Draw(w_H)\n",
    "\n",
    "\n",
    "######################## this works too\n",
    "\n",
    "#this feels weird, find way to get the range from space H_h itself\n",
    "# mixed = FESpace([H_h])\n",
    "\n",
    "# emb = Embedding(H_H.ndof, mixed.Range(0))\n",
    "\n",
    "# w_H.vec.data = emb * w_h.vec \n",
    "\n",
    "# Draw(w_H)\n",
    "\n",
    "#results in same shape\n",
    "#print(t.shape)\n",
    "#print(emb.shape)\n",
    "\n"
   ]
  },
  {
   "cell_type": "code",
   "execution_count": null,
   "metadata": {},
   "outputs": [],
   "source": [
    "a_inv = a.mat.Inverse(freedofs=H_H.FreeDofs())\n",
    "\n",
    "#does the same as below\n",
    "#f_H.vec.data = a_inv @ m.mat * w_H.vec\n",
    "#Draw(f_H)\n",
    "\n",
    "#solve for the riesz representative (f_H) \n",
    "temp = f_H.vec.CreateVector()\n",
    "temp.data = m.mat * w_H.vec\n",
    "f_H.vec.data = a_inv * temp\n",
    "Draw(f_H)\n",
    "\n"
   ]
  },
  {
   "cell_type": "markdown",
   "metadata": {},
   "source": [
    "then plug the Riesz representive in the GEV problem and solve it, where the largest Eigenvalue will be the constant we're looking for"
   ]
  },
  {
   "cell_type": "code",
   "execution_count": null,
   "metadata": {},
   "outputs": [],
   "source": [
    "#create Matrices for GEV problem\n",
    "\n",
    "#c is the low order galerkin matrix\n",
    "c = BilinearForm(H_h)\n",
    "c += div(u_h) * div(v_h) * dx\n",
    "c += u_h*v_h * dx \n",
    "c.Assemble()\n",
    "\n",
    "#check norms\n",
    "temp3 = c.mat * w_h.vec\n",
    "w_h_norm = w_h.vec.InnerProduct(temp3)\n",
    "print(\"H(div) norm of w_h:\", sqrt(w_h_norm)) #norm of w_h in H(div,\n",
    "\n",
    "temp4 = a.mat * f_H.vec\n",
    "f_H_norm = f_H.vec.InnerProduct(temp4)\n",
    "print(\"H(div) norm of f_H, the riesz representative of w_h:\", sqrt(f_H_norm)) #norm of the riesz representative\n",
    "\n",
    "#b = t.T @ m.mat.T @ a_inv @ m.mat @ t\n",
    "\n",
    "C = c.mat.ToDense().NumPy()\n",
    "M = m.mat.ToDense().NumPy()\n",
    "A_inv = a_inv.ToDense().NumPy()\n",
    "T = t.ToDense().NumPy()\n",
    "\n",
    "#M == M.T \n",
    "B = T.T @ M.T @ A_inv @ M @ T"
   ]
  },
  {
   "cell_type": "code",
   "execution_count": null,
   "metadata": {},
   "outputs": [],
   "source": [
    "#solve GEV using the scipy solver s\n",
    "\n",
    "\n",
    "y = sp.linalg.eigvals(B,C)\n",
    "print(\"maximal Eigenvalue:\",max(y))\n",
    "print(\"minimal Eigenvalue:\",min(y))\n"
   ]
  }
 ],
 "metadata": {
  "kernelspec": {
   "display_name": "Python 3",
   "language": "python",
   "name": "python3"
  },
  "language_info": {
   "codemirror_mode": {
    "name": "ipython",
    "version": 3
   },
   "file_extension": ".py",
   "mimetype": "text/x-python",
   "name": "python",
   "nbconvert_exporter": "python",
   "pygments_lexer": "ipython3",
   "version": "3.10.6"
  }
 },
 "nbformat": 4,
 "nbformat_minor": 4
}
