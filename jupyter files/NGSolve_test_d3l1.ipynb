{
 "cells": [
  {
   "cell_type": "code",
   "execution_count": 12,
   "metadata": {},
   "outputs": [],
   "source": [
    "from ngsolve import *\n",
    "from ngsolve.webgui import Draw\n",
    "\n",
    "from netgen.occ import *\n",
    "from netgen.csg import *\n",
    "\n",
    "import matplotlib.pyplot as plt\n",
    "import numpy as np\n",
    "import scipy as sp\n"
   ]
  },
  {
   "cell_type": "code",
   "execution_count": 32,
   "metadata": {},
   "outputs": [
    {
     "name": "stdout",
     "output_type": "stream",
     "text": [
      "4\n"
     ]
    },
    {
     "data": {
      "application/vnd.jupyter.widget-view+json": {
       "model_id": "7548814064f7428ca948510b7547c6f4",
       "version_major": 2,
       "version_minor": 0
      },
      "text/plain": [
       "WebGuiWidget(layout=Layout(height='500px', width='100%'), value={'gui_settings': {}, 'ngsolve_version': '6.2.2…"
      ]
     },
     "metadata": {},
     "output_type": "display_data"
    },
    {
     "data": {
      "text/plain": [
       "BaseWebGuiScene"
      ]
     },
     "execution_count": 32,
     "metadata": {},
     "output_type": "execute_result"
    }
   ],
   "source": [
    "#do the netgen meshing in a cell before importing ngsolve \n",
    "\n",
    "netgen_mesh = unit_square.GenerateMesh(maxh=1)\n",
    "#netgen_mesh.GenerateVolumeMesh() #for uniform meshes this changes nothing?\n",
    "\n",
    "#netgen_mesh.Refine()\n",
    "\n",
    "mesh = Mesh(netgen_mesh)\n",
    "\n",
    "#mesh.Refine()\n",
    "#for meshsize = 0.125 need to redo the matrix multiplication for B\n",
    "#mesh.Refine()\n",
    "#NGsolve mesh\n",
    "\n",
    "# print(mesh.nedge)\n",
    "# for v in mesh.vertices:\n",
    "#     print (v, v.point)\n",
    "\n",
    "# for el in mesh.Elements(VOL):\n",
    "#     print(type(el))\n",
    "#     print (\"vertices: \", el.vertices)   # get vertices of an element\n",
    "#     print (\"edges: \", el.edges)         # get edges of an element\n",
    "print(mesh.nv)\n",
    "Draw(mesh)\n",
    "\n",
    "\n"
   ]
  },
  {
   "cell_type": "markdown",
   "metadata": {},
   "source": [
    "Set correct functionspaces in NGSolve, which will give the corresponding FE Elements, "
   ]
  },
  {
   "cell_type": "code",
   "execution_count": null,
   "metadata": {},
   "outputs": [
    {
     "name": "stdout",
     "output_type": "stream",
     "text": [
      "5\n"
     ]
    }
   ],
   "source": [
    "#set function space,\n",
    "#help(HCurl(mesh, order = 1, type1=True, complex=True))\n",
    "#for complex= false we can visalize the dofs \n",
    "H_h = Compress(HCurl(mesh, order = 1, type1=True, complex=False)) # main function space\n",
    "H_H = Compress(HCurl(mesh, order = 2, type1=True, complex=False)) # high order Function space for Riesz representative\n",
    "#print(H_h.globalorder)\n",
    "\n",
    "H_div = HDiv(mesh, order = 0, RT=True) \n",
    "\n",
    "\n",
    "\n",
    "gfu = GridFunction(H_h,multidim = H_h.ndof)\n",
    "help(gfu)\n",
    "for i in range(H_h.ndof):\n",
    "    gfu.vecs[i][i] = 1.0\n",
    "Draw(gfu, animate = True, min = 0, max = 2.0, deformation = False, euler_angles =[-45,-6,25])\n",
    "\n",
    "print(H_h.ndof)\n",
    "\n"
   ]
  },
  {
   "cell_type": "code",
   "execution_count": null,
   "metadata": {},
   "outputs": [],
   "source": [
    "#choose w_h and set its values on the nodes\n",
    "w = (exp(2j * z),0,0)\n",
    "\n",
    "w_h = GridFunction(H_h) #set the nodes\n",
    "w_h.Set(w)\n",
    "\n",
    "f_H = GridFunction(H_H, name=\"f_H\") #high order \n",
    "\n",
    "Draw(w_h)"
   ]
  },
  {
   "cell_type": "markdown",
   "metadata": {},
   "source": [
    "Create the galerkin matrices used to calculate the Riesz representative"
   ]
  },
  {
   "cell_type": "code",
   "execution_count": null,
   "metadata": {},
   "outputs": [],
   "source": [
    "#low order\n",
    "u_h = H_h.TrialFunction() # define the trial function\n",
    "v_h = H_h.TestFunction() # define the test function\n",
    "\n",
    "#High order\n",
    "u_H = H_H.TrialFunction() # define the trial function\n",
    "v_H= H_H.TestFunction() # define the test function\n",
    "\n",
    "m = BilinearForm(H_H) #define m with the L2 inner product on the high order space\n",
    "m += u_H*v_H * dx \n",
    "m.Assemble()\n",
    "\n",
    "a = BilinearForm(H_H) # define the H(curl) inner product on the high order space\n",
    "a += curl(u_H) * curl(v_H) * dx\n",
    "a += u_H*v_H * dx \n",
    "a.Assemble()"
   ]
  },
  {
   "cell_type": "markdown",
   "metadata": {},
   "source": [
    "Approximate the dual norm, by the Riesz representive.\n",
    "Get the Riesz Representive by solving a LGS, since we're approximating we set the space of the Riesz represntative in a higher order space (higher polynomial degree)"
   ]
  },
  {
   "cell_type": "code",
   "execution_count": null,
   "metadata": {},
   "outputs": [],
   "source": [
    "#create embedding matrix T\n",
    "\n",
    "# a_mixed = BilinearForm(trialspace=H_h, testspace=H_H)\n",
    "\n",
    "# a_dest = BilinearForm(H_H)\n",
    "\n",
    "# v_H_dual = v_H.Operator(\"dual\")\n",
    "\n",
    "# dS = dx(element_boundary=True)\n",
    "# a_dest += u_H*v_H_dual*dx + u_H*v_H_dual*dS\n",
    "# a_dest.Assemble()\n",
    "\n",
    "# a_mixed += u_h*v_H_dual*dx + u_h*v_H_dual*dS\n",
    "# a_mixed.Assemble()\n",
    "\n",
    "# #build T\n",
    "# t = a_dest.mat.Inverse() @ a_mixed.mat\n",
    "\n",
    "\n",
    "############################# doing it directly as a L2 projection\n",
    "\n",
    "a_mixed = BilinearForm(trialspace=H_h, testspace=H_H)\n",
    "a_mixed += u_h*v_H*dx\n",
    "a_mixed.Assemble()\n",
    "\n",
    "a_dest = BilinearForm(H_H)\n",
    "a_dest += u_H*v_H*dx\n",
    "a_dest.Assemble()\n",
    "\n",
    "t = a_dest.mat.Inverse() @ a_mixed.mat\n",
    "\n",
    "#w_H is the high order embedding of w_h\n",
    "w_H = GridFunction(H_H, name=\"w_H\")\n",
    "w_H.vec.data = t * w_h.vec\n",
    "\n",
    "Draw(w_h)\n",
    "Draw(w_H)\n",
    "\n",
    "######################## this works too ?\n",
    "\n",
    "#this feels weird, find way to get the range from space H_h itself\n",
    "# mixed = FESpace([H_h])\n",
    "\n",
    "# emb = Embedding(H_H.ndof, mixed.Range(0))\n",
    "\n",
    "# #w_emb = GridFunction(H_H, name=\"w_emb\")\n",
    "# #w_emb.vec.data = emb * w_h.vec \n",
    "\n",
    "# w_H.vec.data = emb * w_h.vec\n",
    "\n",
    "# Draw(w_H)\n",
    "\n",
    "#results in same shape\n",
    "#print(t.shape)\n",
    "#print(emb.shape)\n"
   ]
  },
  {
   "cell_type": "code",
   "execution_count": null,
   "metadata": {},
   "outputs": [],
   "source": [
    "a_inv = a.mat.Inverse(freedofs=H_H.FreeDofs()) #, inverse=\"sparsecholesky\")\n",
    "#does the same as below\n",
    "#f_H.vec.data = a_inv @ m.mat * w_H.vec\n",
    "#Draw(f_H)\n",
    "\n",
    "#solve for the riesz representative (f_H) \n",
    "temp = f_H.vec.CreateVector()\n",
    "temp.data = m.mat * w_H.vec\n",
    "f_H.vec.data = a_inv * temp\n",
    "Draw(f_H)\n",
    "\n"
   ]
  },
  {
   "cell_type": "markdown",
   "metadata": {},
   "source": [
    "then plug the Riesz representive in the GEV problem and solve it, where the largest Eigenvalue will be the constant we're looking for"
   ]
  },
  {
   "cell_type": "code",
   "execution_count": null,
   "metadata": {},
   "outputs": [],
   "source": [
    "#create Matrices for GEV problem\n",
    "\n",
    "#c is the low order galerkin matrix\n",
    "c = BilinearForm(H_h)\n",
    "c += curl(u_h) * curl(v_h) * dx\n",
    "c += u_h*v_h * dx \n",
    "c.Assemble()\n",
    "\n",
    "#check norms\n",
    "# temp3 = c.mat * w_h.vec\n",
    "# w_h_norm = w_h.vec.InnerProduct(temp3)\n",
    "# print(\"H(curl) norm of w_h:\", sqrt(w_h_norm)) #norm of w_h in H(div,\n",
    "\n",
    "# temp4 = a.mat * f_H.vec\n",
    "# f_H_norm = f_H.vec.InnerProduct(temp4)\n",
    "# print(\"H(curl) norm of f_H, the riesz representative of w_h:\", sqrt(f_H_norm)) #norm of the riesz representative\n",
    "\n",
    "#this results in a slightly diffrent Eigenvalue (very small difference)\n",
    "b = t.T @ m.mat.T @ a_inv @ m.mat @ t\n",
    "\n",
    "B_dir = b.ToDense().NumPy()\n",
    "\n",
    "# print(B)\n",
    "\n",
    "C = c.mat.ToDense().NumPy()\n",
    "M = m.mat.ToDense().NumPy()\n",
    "#A = a.mat.ToDense().NumPy()\n",
    "A_inv = a_inv.ToDense().NumPy()\n",
    "# print(sp.linalg.inv(A))\n",
    "# print(\"\\n\")\n",
    "# print(A_inv)\n",
    "T = t.ToDense().NumPy()\n",
    "\n",
    "#M == M.T \n",
    "#for fine meshes, this is too slow\n",
    "B = T.T @ M @ A_inv @ M @ T\n",
    "\n",
    "# print(B)"
   ]
  },
  {
   "cell_type": "code",
   "execution_count": null,
   "metadata": {},
   "outputs": [],
   "source": [
    "#solve GEV using the scipy solver s\n",
    "\n",
    "\n",
    "y = sp.linalg.eigvalsh(B,C)\n",
    "print(\"maximal Eigenvalue:\",max(y))\n",
    "print(\"minimal Eigenvalue:\",min(y))\n",
    "\n",
    "y = sp.linalg.eigvalsh(B_dir,C)\n",
    "print(\"maximal Eigenvalue:\",max(y))\n",
    "print(\"minimal Eigenvalue:\",min(y))"
   ]
  }
 ],
 "metadata": {
  "kernelspec": {
   "display_name": "Python 3",
   "language": "python",
   "name": "python3"
  },
  "language_info": {
   "codemirror_mode": {
    "name": "ipython",
    "version": 3
   },
   "file_extension": ".py",
   "mimetype": "text/x-python",
   "name": "python",
   "nbconvert_exporter": "python",
   "pygments_lexer": "ipython3",
   "version": "3.10.6"
  }
 },
 "nbformat": 4,
 "nbformat_minor": 4
}
