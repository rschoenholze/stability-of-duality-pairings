{
 "cells": [
  {
   "cell_type": "code",
   "execution_count": 147,
   "metadata": {},
   "outputs": [],
   "source": [
    "from ngsolve import *\n",
    "from ngsolve.webgui import Draw\n",
    "from netgen.occ import *\n",
    "import matplotlib.pyplot as plt\n",
    "import numpy as np\n",
    "import scipy as sp\n",
    "from netgen.csg import Pnt\n"
   ]
  },
  {
   "cell_type": "markdown",
   "metadata": {},
   "source": [
    "make mesh"
   ]
  },
  {
   "cell_type": "code",
   "execution_count": 148,
   "metadata": {},
   "outputs": [],
   "source": [
    "netgen_mesh = unit_square.GenerateMesh(maxh=1.0)\n",
    "#netgen_dual = unit_square.GenerateMesh(maxh=1.0)\n",
    "#netgen_primal = unit_square.GenerateMesh(maxh=1.0)\n",
    "#mesh=Mesh(netgen_mesh) \n",
    "\n",
    "# elvol = Integrate(CoefficientFunction(1),mesh,element_wise=True)\n",
    "# h = [(2*vol)**(1/2) for vol in elvol]\n",
    "# print(min(h),max(h))\n",
    "#help(unit_square)"
   ]
  },
  {
   "cell_type": "code",
   "execution_count": 149,
   "metadata": {},
   "outputs": [
    {
     "data": {
      "application/vnd.jupyter.widget-view+json": {
       "model_id": "9e61a5f0ab4c47caa74fedcb0497c176",
       "version_major": 2,
       "version_minor": 0
      },
      "text/plain": [
       "WebGuiWidget(layout=Layout(height='500px', width='100%'), value={'gui_settings': {}, 'ngsolve_version': '6.2.2…"
      ]
     },
     "metadata": {},
     "output_type": "display_data"
    },
    {
     "data": {
      "text/plain": [
       "BaseWebGuiScene"
      ]
     },
     "execution_count": 149,
     "metadata": {},
     "output_type": "execute_result"
    }
   ],
   "source": [
    "mesh = Mesh(netgen_mesh)\n",
    "\n",
    "#mesh.Refine()\n",
    "Draw(mesh)"
   ]
  },
  {
   "cell_type": "code",
   "execution_count": 150,
   "metadata": {},
   "outputs": [
    {
     "name": "stdout",
     "output_type": "stream",
     "text": [
      "4\n",
      "12\n"
     ]
    }
   ],
   "source": [
    "vertices = mesh.vertices\n",
    "n_v = mesh.nv\n",
    "old_f = mesh.nface\n",
    "print(n_v)\n",
    "\n",
    "#mesh.ngmesh.Refine()\n",
    "# mesh.ngmesh.Update()\n",
    "# mesh._updateBuffers()\n",
    "\n",
    "# mesh.Refine()\n",
    "\n",
    "# mesh.ngmesh.Update()\n",
    "# mesh.ngmesh.Save(\"mesh\")\n",
    "\n",
    "# del mesh\n",
    "\n",
    "\n",
    "# #mesh.ngmesh.Load(\"mesh.vol.gz\")\n",
    "\n",
    "# mesh = Mesh(\"mesh.vol.gz\")\n",
    "\n",
    "# mesh._updateBuffers()\n",
    "\n",
    "mesh.ngmesh.SplitPowellSabin()\n",
    "# mesh.ngmesh.Update()\n",
    "# mesh._updateBuffers()\n",
    "#macromesh = Mesh(mesh.ngmesh.macromesh)\n",
    "\n",
    "n_f = mesh.nface - old_f\n",
    "print(n_f)\n"
   ]
  },
  {
   "cell_type": "code",
   "execution_count": 151,
   "metadata": {},
   "outputs": [
    {
     "data": {
      "application/vnd.jupyter.widget-view+json": {
       "model_id": "16a8f247919c4730b825a929b82fdbdf",
       "version_major": 2,
       "version_minor": 0
      },
      "text/plain": [
       "WebGuiWidget(layout=Layout(height='500px', width='100%'), value={'gui_settings': {}, 'ngsolve_version': '6.2.2…"
      ]
     },
     "metadata": {},
     "output_type": "display_data"
    },
    {
     "name": "stdout",
     "output_type": "stream",
     "text": [
      "V0 (0.0, 0.0)\n",
      "(F2, F3, F4, F5)\n",
      "V1 (1.0, 0.0)\n",
      "(F6, F7)\n",
      "V2 (1.0, 1.0)\n",
      "(F8, F9, F10, F11)\n",
      "V3 (0.0, 1.0000000000000002)\n",
      "(F12, F13)\n"
     ]
    }
   ],
   "source": [
    "\n",
    "#help(mesh)\n",
    "Draw(mesh)\n",
    "# for f in mesh.faces:\n",
    "#     print (f, f.vertices)\n",
    "\n",
    "data_length = 0\n",
    "\n",
    "for v in range(n_v):\n",
    "    vert = mesh.vertices[v]\n",
    "    print(vert, vert.point)\n",
    "    print(vert.faces)\n",
    "    data_length += len(vert.faces)\n",
    "\n"
   ]
  },
  {
   "cell_type": "code",
   "execution_count": 152,
   "metadata": {},
   "outputs": [
    {
     "name": "stdout",
     "output_type": "stream",
     "text": [
      " 0.0833333       0       0       0       0       0       0       0       0       0       0       0\n",
      "       0 0.0833333       0       0       0       0       0       0       0       0       0       0\n",
      "       0       0 0.0833333       0       0       0       0       0       0       0       0       0\n",
      "       0       0       0 0.0833333       0       0       0       0       0       0       0       0\n",
      "       0       0       0       0 0.0833333       0       0       0       0       0       0       0\n",
      "       0       0       0       0       0 0.0833333       0       0       0       0       0       0\n",
      "       0       0       0       0       0       0 0.0833333       0       0       0       0       0\n",
      "       0       0       0       0       0       0       0 0.0833333       0       0       0       0\n",
      "       0       0       0       0       0       0       0       0 0.0833333       0       0       0\n",
      "       0       0       0       0       0       0       0       0       0 0.0833333       0       0\n",
      "       0       0       0       0       0       0       0       0       0       0 0.0833333       0\n",
      "       0       0       0       0       0       0       0       0       0       0       0 0.0833333\n",
      "\n"
     ]
    }
   ],
   "source": [
    "# netgen_primal = unit_square.GenerateMesh(maxh=1.0)\n",
    "# primal_mesh = Mesh(netgen_primal)\n",
    "primal_space = H1(mesh, order=1)\n",
    "u_p = primal_space.TrialFunction()\n",
    "v_p = primal_space.TestFunction()\n",
    "\n",
    "# m_p = BilinearForm(primal_space)\n",
    "# m_p += u_p * v_p *dx\n",
    "# m_p.Assemble()\n",
    "\n",
    "dual_space = L2(mesh,order=0)\n",
    "u_d = dual_space.TrialFunction()\n",
    "v_d = dual_space.TestFunction()\n",
    "\n",
    "#help(H1(mesh, order=1))\n",
    "\n",
    "m_d = BilinearForm(dual_space) #trialspace=primal_space, testspace=dual_space) \n",
    "\n",
    "m_d += u_d * v_d * dx\n",
    "\n",
    "m_d.Assemble()\n",
    "\n",
    "print(m_d.mat.ToDense())\n",
    "\n",
    "#help(m.mat)"
   ]
  },
  {
   "cell_type": "code",
   "execution_count": 153,
   "metadata": {},
   "outputs": [
    {
     "name": "stdout",
     "output_type": "stream",
     "text": [
      "    0.25    0.25       0       0       0       0    0.25       0       0       0       0    0.25\n",
      "       0       0     0.5     0.5       0       0       0       0       0       0       0       0\n",
      "       0       0       0       0    0.25    0.25       0    0.25    0.25       0       0       0\n",
      "       0       0       0       0       0       0       0       0       0     0.5     0.5       0\n",
      "\n"
     ]
    }
   ],
   "source": [
    "data = np.empty(data_length)\n",
    "row_ind = np.empty(data_length, dtype=int)\n",
    "col_ind = np.empty(data_length, dtype=int)\n",
    "shape = (n_f,n_v)\n",
    "\n",
    "i = 0\n",
    "j = 0\n",
    "\n",
    "for v in vertices:\n",
    "    #v = mesh.vertices.__getitem__(i)\n",
    "    #print(v)\n",
    "    #vert = mesh.vertices[n_v]\n",
    "    coeff =  1/len(v.faces)\n",
    "    dofnr = dual_space.GetDofNrs(v)\n",
    "    for el in v.elements:\n",
    "        #print(f)\n",
    "        dofNr = dual_space.GetDofNrs(el)\n",
    "        #print(dofNr)\n",
    "        row_ind[j] = dofNr[0]\n",
    "        col_ind[j] = v.nr\n",
    "        data[j] = coeff\n",
    "        j += 1\n",
    "    \n",
    "    i += 1\n",
    "\n",
    "# print(data)\n",
    "# print(row_ind)\n",
    "# print(col_ind)\n",
    "\n",
    "# sci_mat = sp.sparse.csr_matrix((data, (row_ind, col_ind)),shape)\n",
    "# print(sci_mat.todense())\n",
    "# sci_coo = sci_mat.tocoo()\n",
    "\n",
    "ng_mat = la.SparseMatrixdouble.CreateFromCOO(row_ind,col_ind,data, n_f,n_v)\n",
    "print(ng_mat.T.ToDense())\n",
    "\n"
   ]
  },
  {
   "cell_type": "code",
   "execution_count": 154,
   "metadata": {},
   "outputs": [
    {
     "name": "stdout",
     "output_type": "stream",
     "text": [
      " 0.0208333       0       0       0\n",
      "       0 0.0416667       0       0\n",
      "       0       0 0.0208333       0\n",
      "       0       0       0 0.0416667\n",
      "\n"
     ]
    }
   ],
   "source": [
    "#print(m_p.mat.ToDense())\n",
    "\n",
    "M = ng_mat.T @ m_d.mat @ ng_mat\n",
    "\n",
    "print(M.ToDense())"
   ]
  },
  {
   "cell_type": "code",
   "execution_count": 155,
   "metadata": {},
   "outputs": [
    {
     "name": "stdout",
     "output_type": "stream",
     "text": [
      "0: 11111111111\n"
     ]
    }
   ],
   "source": [
    "\n",
    "\n",
    "#print(primal_space.CouplingType(0))\n",
    "# for i in range(primal_space.ndof):\n",
    "#     primal_space.SetCouplingType(i,COUPLING_TYPE.UNUSED_DOF)\n",
    "\n",
    "#primal_space.HideAllDofs()\n",
    "\n",
    "print(primal_space.FreeDofs())\n",
    "#Draw(macromesh)\n",
    "#print(macromesh.nv)\n"
   ]
  },
  {
   "cell_type": "code",
   "execution_count": 156,
   "metadata": {},
   "outputs": [],
   "source": [
    "#Doesnt work bc calc shape wnats floats\n",
    "# def lincomb(x, y, v, dual_space):\n",
    "\n",
    "#     func = 0\n",
    "\n",
    "\n",
    "#     faces = v.faces\n",
    "#     for el in dual_space.Elements():\n",
    "#         for f in faces:\n",
    "#             print(f)\n",
    "#             if f == el.faces[0]:\n",
    "#                 func += dual_space.GetFE(el).CalcShape(x=x,y=y)\n",
    "\n",
    "#     return func\n",
    "\n",
    "# for f in mesh.faces:\n",
    "#     print(f,f.vertices)\n",
    "\n",
    "\n",
    "\n",
    "#help(primal_space)\n"
   ]
  },
  {
   "cell_type": "code",
   "execution_count": 157,
   "metadata": {},
   "outputs": [
    {
     "name": "stdout",
     "output_type": "stream",
     "text": [
      "12\n"
     ]
    },
    {
     "data": {
      "application/vnd.jupyter.widget-view+json": {
       "model_id": "0bb5225012ef480591d3e0d85ccdd253",
       "version_major": 2,
       "version_minor": 0
      },
      "text/plain": [
       "WebGuiWidget(layout=Layout(height='500px', width='100%'), value={'gui_settings': {}, 'ngsolve_version': '6.2.2…"
      ]
     },
     "metadata": {},
     "output_type": "display_data"
    },
    {
     "data": {
      "text/plain": [
       "BaseWebGuiScene"
      ]
     },
     "execution_count": 157,
     "metadata": {},
     "output_type": "execute_result"
    }
   ],
   "source": [
    "print(dual_space.ndof)\n",
    "\n",
    "gfu = GridFunction(dual_space,multidim = dual_space.ndof)\n",
    "\n",
    "for i in range(dual_space.ndof):\n",
    "    gfu.vecs[i][i] = 1.0\n",
    "\n",
    "\n",
    "Draw(gfu, animate = True, min = 0, max = 1.0, deformation = False)"
   ]
  },
  {
   "cell_type": "code",
   "execution_count": 158,
   "metadata": {},
   "outputs": [
    {
     "data": {
      "application/vnd.jupyter.widget-view+json": {
       "model_id": "89df292c03c948438b72ed048a74d970",
       "version_major": 2,
       "version_minor": 0
      },
      "text/plain": [
       "WebGuiWidget(layout=Layout(height='500px', width='100%'), value={'gui_settings': {}, 'ngsolve_version': '6.2.2…"
      ]
     },
     "metadata": {},
     "output_type": "display_data"
    },
    {
     "data": {
      "text/plain": [
       "BaseWebGuiScene"
      ]
     },
     "execution_count": 158,
     "metadata": {},
     "output_type": "execute_result"
    }
   ],
   "source": [
    "dfu = GridFunction(dual_space,multidim = n_v)\n",
    "#help(ng_mat)\n",
    "\n",
    "\n",
    "\n",
    "dfu.Set(0)\n",
    "for i in range(n_v):\n",
    "    #print(ng_mat.ToDense().NumPy()[:,i])\n",
    "    dfu.vecs[i][:] = ng_mat.ToDense().NumPy()[:,i]\n",
    "\n",
    "\n",
    "# for i in range(4):\n",
    "    #print(dfu.vecs[i][:].FV().NumPy())\n",
    "\n",
    "Draw(dfu, animate = True, min = 0, max = 0.5, deformation = False)"
   ]
  },
  {
   "cell_type": "code",
   "execution_count": 159,
   "metadata": {},
   "outputs": [
    {
     "data": {
      "application/vnd.jupyter.widget-view+json": {
       "model_id": "6f82828a50914a2b849b17bb5f818328",
       "version_major": 2,
       "version_minor": 0
      },
      "text/plain": [
       "WebGuiWidget(layout=Layout(height='500px', width='100%'), value={'gui_settings': {}, 'ngsolve_version': '6.2.2…"
      ]
     },
     "metadata": {},
     "output_type": "display_data"
    },
    {
     "data": {
      "text/plain": [
       "BaseWebGuiScene"
      ]
     },
     "execution_count": 159,
     "metadata": {},
     "output_type": "execute_result"
    }
   ],
   "source": [
    "netgen_primal = unit_square.GenerateMesh(maxh=0.5)\n",
    "primal_mesh = Mesh(netgen_primal)\n",
    "primal_space = H1(primal_mesh, order=1)\n",
    "\n",
    "gfu = GridFunction(primal_space,multidim = primal_space.ndof)\n",
    "\n",
    "for i in range(primal_space.ndof):\n",
    "    gfu.vecs[i][i] = 1.0\n",
    "\n",
    "\n",
    "Draw(gfu, animate = True, min = 0, max = 1.0, deformation = False)"
   ]
  }
 ],
 "metadata": {
  "kernelspec": {
   "display_name": "Python 3",
   "language": "python",
   "name": "python3"
  },
  "language_info": {
   "codemirror_mode": {
    "name": "ipython",
    "version": 3
   },
   "file_extension": ".py",
   "mimetype": "text/x-python",
   "name": "python",
   "nbconvert_exporter": "python",
   "pygments_lexer": "ipython3",
   "version": "3.10.6"
  }
 },
 "nbformat": 4,
 "nbformat_minor": 2
}
