{
 "cells": [
  {
   "cell_type": "code",
   "execution_count": 115,
   "metadata": {},
   "outputs": [],
   "source": [
    "from ngsolve import *\n",
    "from ngsolve.webgui import Draw\n",
    "from netgen.occ import *\n",
    "import matplotlib.pyplot as plt\n",
    "import numpy as np\n",
    "import scipy as sp\n",
    "from netgen.csg import Pnt"
   ]
  },
  {
   "cell_type": "markdown",
   "metadata": {},
   "source": [
    "make mesh"
   ]
  },
  {
   "cell_type": "code",
   "execution_count": 116,
   "metadata": {},
   "outputs": [],
   "source": [
    "netgen_mesh = unit_square.GenerateMesh(maxh=1.0)\n",
    "#netgen_dual = unit_square.GenerateMesh(maxh=1.0)\n",
    "#netgen_primal = unit_square.GenerateMesh(maxh=1.0)\n",
    "#mesh=Mesh(netgen_mesh) \n",
    "\n",
    "# elvol = Integrate(CoefficientFunction(1),mesh,element_wise=True)\n",
    "# h = [(2*vol)**(1/2) for vol in elvol]\n",
    "# print(min(h),max(h))\n"
   ]
  },
  {
   "cell_type": "code",
   "execution_count": 117,
   "metadata": {},
   "outputs": [
    {
     "data": {
      "application/vnd.jupyter.widget-view+json": {
       "model_id": "ff8850d5c42a4d4d8879a1d1a33358cf",
       "version_major": 2,
       "version_minor": 0
      },
      "text/plain": [
       "WebGuiWidget(layout=Layout(height='500px', width='100%'), value={'gui_settings': {}, 'ngsolve_version': '6.2.2…"
      ]
     },
     "metadata": {},
     "output_type": "display_data"
    },
    {
     "data": {
      "text/plain": [
       "BaseWebGuiScene"
      ]
     },
     "execution_count": 117,
     "metadata": {},
     "output_type": "execute_result"
    }
   ],
   "source": [
    "mesh = Mesh(netgen_mesh)\n",
    "#mesh.Refine()\n",
    "Draw(mesh)"
   ]
  },
  {
   "cell_type": "code",
   "execution_count": 118,
   "metadata": {},
   "outputs": [
    {
     "name": "stdout",
     "output_type": "stream",
     "text": [
      "4\n",
      "12\n"
     ]
    }
   ],
   "source": [
    "n_v = mesh.nv\n",
    "old_f = mesh.nface\n",
    "print(n_v)\n",
    "mesh.ngmesh.SplitPowellSabin()\n",
    "n_f = mesh.nface - old_f\n",
    "print(n_f)\n"
   ]
  },
  {
   "cell_type": "code",
   "execution_count": 119,
   "metadata": {},
   "outputs": [
    {
     "data": {
      "application/vnd.jupyter.widget-view+json": {
       "model_id": "21f756912bda4303b5527993b3e5cadd",
       "version_major": 2,
       "version_minor": 0
      },
      "text/plain": [
       "WebGuiWidget(layout=Layout(height='500px', width='100%'), value={'gui_settings': {}, 'ngsolve_version': '6.2.2…"
      ]
     },
     "metadata": {},
     "output_type": "display_data"
    },
    {
     "name": "stdout",
     "output_type": "stream",
     "text": [
      "V0 (0.0, 0.0)\n",
      "(F2, F3, F4, F5)\n",
      "V1 (1.0, 0.0)\n",
      "(F6, F7)\n",
      "V2 (1.0, 1.0)\n",
      "(F8, F9, F10, F11)\n",
      "V3 (0.0, 1.0000000000000002)\n",
      "(F12, F13)\n"
     ]
    }
   ],
   "source": [
    "\n",
    "#help(mesh)\n",
    "Draw(mesh)\n",
    "\n",
    "# for f in mesh.faces:\n",
    "#     print (f, f.vertices)\n",
    "\n",
    "data_length = 0\n",
    "\n",
    "for i in range(n_v):\n",
    "    v = mesh.vertices.__getitem__(i)\n",
    "    print(v, v.point)\n",
    "    print(v.faces)\n",
    "    data_length += len(v.faces)\n",
    "\n"
   ]
  },
  {
   "cell_type": "code",
   "execution_count": 120,
   "metadata": {},
   "outputs": [
    {
     "name": "stdout",
     "output_type": "stream",
     "text": [
      " 0.0833333       0       0       0       0       0       0       0       0       0       0       0\n",
      "       0 0.0833333       0       0       0       0       0       0       0       0       0       0\n",
      "       0       0 0.0833333       0       0       0       0       0       0       0       0       0\n",
      "       0       0       0 0.0833333       0       0       0       0       0       0       0       0\n",
      "       0       0       0       0 0.0833333       0       0       0       0       0       0       0\n",
      "       0       0       0       0       0 0.0833333       0       0       0       0       0       0\n",
      "       0       0       0       0       0       0 0.0833333       0       0       0       0       0\n",
      "       0       0       0       0       0       0       0 0.0833333       0       0       0       0\n",
      "       0       0       0       0       0       0       0       0 0.0833333       0       0       0\n",
      "       0       0       0       0       0       0       0       0       0 0.0833333       0       0\n",
      "       0       0       0       0       0       0       0       0       0       0 0.0833333       0\n",
      "       0       0       0       0       0       0       0       0       0       0       0 0.0833333\n",
      "\n"
     ]
    }
   ],
   "source": [
    "netgen_primal = unit_square.GenerateMesh(maxh=1.0)\n",
    "primal_mesh = Mesh(netgen_primal)\n",
    "primal_space = H1(primal_mesh, order=1)\n",
    "u_p = primal_space.TrialFunction()\n",
    "v_p = primal_space.TestFunction()\n",
    "\n",
    "m_p = BilinearForm(primal_space)\n",
    "m_p += u_p * v_p *dx\n",
    "m_p.Assemble()\n",
    "\n",
    "dual_space = L2(mesh,order=0)\n",
    "u_d = dual_space.TrialFunction()\n",
    "v_d = dual_space.TestFunction()\n",
    "\n",
    "#help(H1(mesh, order=1))\n",
    "\n",
    "m_d = BilinearForm(dual_space) #trialspace=primal_space, testspace=dual_space)\n",
    "\n",
    "m_d += u_d * v_d * dx\n",
    "\n",
    "m_d.Assemble()\n",
    "\n",
    "print(m_d.mat.ToDense())\n",
    "\n",
    "#help(m.mat)"
   ]
  },
  {
   "cell_type": "code",
   "execution_count": 121,
   "metadata": {},
   "outputs": [
    {
     "name": "stdout",
     "output_type": "stream",
     "text": [
      "    0.25       0       0       0\n",
      "    0.25       0       0       0\n",
      "       0     0.5       0       0\n",
      "       0     0.5       0       0\n",
      "       0       0    0.25       0\n",
      "       0       0    0.25       0\n",
      "    0.25       0       0       0\n",
      "       0       0    0.25       0\n",
      "       0       0    0.25       0\n",
      "       0       0       0     0.5\n",
      "       0       0       0     0.5\n",
      "    0.25       0       0       0\n",
      "\n"
     ]
    }
   ],
   "source": [
    "data = np.empty(data_length)\n",
    "row_ind = np.empty(data_length, dtype=int)\n",
    "col_ind = np.empty(data_length, dtype=int)\n",
    "shape = (n_f,n_v)\n",
    "\n",
    "j = 0\n",
    "\n",
    "for i in range(n_v):\n",
    "    v = mesh.vertices.__getitem__(i)\n",
    "    #print(v.faces)\n",
    "    coeff =  1/len(v.faces)\n",
    "    for f in v.faces:\n",
    "        #print(f)\n",
    "        dofNr = dual_space.GetDofNrs(f)\n",
    "        #print(dofNr)\n",
    "        row_ind[j] = dofNr[0]\n",
    "        col_ind[j] = i\n",
    "        data[j] = coeff\n",
    "        j += 1\n",
    "\n",
    "# print(data)\n",
    "# print(row_ind)\n",
    "# print(col_ind)\n",
    "\n",
    "# sci_mat = sp.sparse.csr_matrix((data, (row_ind, col_ind)),shape)\n",
    "# print(sci_mat.todense())\n",
    "# sci_coo = sci_mat.tocoo()\n",
    "\n",
    "ng_mat = la.SparseMatrixdouble.CreateFromCOO(row_ind,col_ind,data, n_f,n_v)\n",
    "print(ng_mat.ToDense())\n",
    "\n"
   ]
  },
  {
   "cell_type": "code",
   "execution_count": 122,
   "metadata": {},
   "outputs": [
    {
     "name": "stdout",
     "output_type": "stream",
     "text": [
      " 0.166667 0.0416667 0.0833333 0.0416667\n",
      " 0.0416667 0.0833333 0.0416667       0\n",
      " 0.0833333 0.0416667 0.166667 0.0416667\n",
      " 0.0416667       0 0.0416667 0.0833333\n",
      "\n",
      " 0.0208333       0       0       0\n",
      "       0 0.0416667       0       0\n",
      "       0       0 0.0208333       0\n",
      "       0       0       0 0.0416667\n",
      "\n"
     ]
    }
   ],
   "source": [
    "print(m_p.mat.ToDense())\n",
    "\n",
    "M = ng_mat.T @ m_d.mat @ ng_mat\n",
    "\n",
    "print(M.ToDense())"
   ]
  }
 ],
 "metadata": {
  "kernelspec": {
   "display_name": "Python 3",
   "language": "python",
   "name": "python3"
  },
  "language_info": {
   "codemirror_mode": {
    "name": "ipython",
    "version": 3
   },
   "file_extension": ".py",
   "mimetype": "text/x-python",
   "name": "python",
   "nbconvert_exporter": "python",
   "pygments_lexer": "ipython3",
   "version": "3.10.6"
  }
 },
 "nbformat": 4,
 "nbformat_minor": 2
}
