{
 "cells": [
  {
   "cell_type": "code",
   "execution_count": 1,
   "metadata": {},
   "outputs": [],
   "source": [
    "from ngsolve import *\n",
    "from ngsolve.webgui import Draw\n",
    "from netgen.occ import *\n",
    "import matplotlib.pyplot as plt\n",
    "import numpy as np\n",
    "import scipy as sp\n",
    "from netgen.csg import Pnt"
   ]
  },
  {
   "cell_type": "markdown",
   "metadata": {},
   "source": [
    "make mesh"
   ]
  },
  {
   "cell_type": "code",
   "execution_count": null,
   "metadata": {},
   "outputs": [],
   "source": [
    "netgen_mesh = unit_square.GenerateMesh(maxh=1.0)\n",
    "\n",
    "#mesh=Mesh(netgen_mesh) \n",
    "\n",
    "Draw(netgen_mesh)\n",
    "#netgen_mesh.Refine()\n",
    "# elvol = Integrate(CoefficientFunction(1),mesh,element_wise=True)\n",
    "# h = [(2*vol)**(1/2) for vol in elvol]\n",
    "# print(min(h),max(h))"
   ]
  },
  {
   "cell_type": "markdown",
   "metadata": {},
   "source": [
    "barycentric refinement (netgen mesh since, i can add elements to that)"
   ]
  },
  {
   "cell_type": "code",
   "execution_count": null,
   "metadata": {},
   "outputs": [],
   "source": [
    "#barycentric split, only works in 2d for 2d Hdiv is the most interesting so do that first\n",
    "#for 3d look at ngspetsc\n",
    "#netgen_mesh.SplitPowellSabin()\n",
    "mesh=Mesh(netgen_mesh)\n",
    "help(mesh)\n",
    "Draw(mesh)\n",
    "print(mesh.nedge)\n",
    "\n"
   ]
  },
  {
   "cell_type": "code",
   "execution_count": null,
   "metadata": {},
   "outputs": [],
   "source": [
    "#install a C++ compiler\n",
    "from ngsolve.fem import CompilePythonModule\n",
    "from pathlib import Path\n",
    "\n",
    "help(CompilePythonModule)\n",
    "m = CompilePythonModule(Path('mymodule.cpp'), init_function_name='mymodule')"
   ]
  }
 ],
 "metadata": {
  "kernelspec": {
   "display_name": "Python 3",
   "language": "python",
   "name": "python3"
  },
  "language_info": {
   "codemirror_mode": {
    "name": "ipython",
    "version": 3
   },
   "file_extension": ".py",
   "mimetype": "text/x-python",
   "name": "python",
   "nbconvert_exporter": "python",
   "pygments_lexer": "ipython3",
   "version": "3.10.6"
  }
 },
 "nbformat": 4,
 "nbformat_minor": 2
}
