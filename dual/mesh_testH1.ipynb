{
 "cells": [
  {
   "cell_type": "code",
   "execution_count": 15,
   "metadata": {},
   "outputs": [],
   "source": [
    "from ngsolve import *\n",
    "from ngsolve.webgui import Draw\n",
    "from netgen.occ import *\n",
    "import matplotlib.pyplot as plt\n",
    "import numpy as np\n",
    "import scipy as sp\n",
    "from netgen.csg import Pnt\n",
    "import pyngcore\n",
    "\n"
   ]
  },
  {
   "cell_type": "code",
   "execution_count": 16,
   "metadata": {},
   "outputs": [
    {
     "name": "stdout",
     "output_type": "stream",
     "text": [
      "0.5\n",
      "Help on OCCGeometry in module netgen.libngpy._NgOCC object:\n",
      "\n",
      "class OCCGeometry(netgen.libngpy._meshing.NetgenGeometry)\n",
      " |  Use LoadOCCGeometry to load the geometry from a *.step file.\n",
      " |  \n",
      " |  Method resolution order:\n",
      " |      OCCGeometry\n",
      " |      netgen.libngpy._meshing.NetgenGeometry\n",
      " |      pybind11_builtins.pybind11_object\n",
      " |      builtins.object\n",
      " |  \n",
      " |  Methods defined here:\n",
      " |  \n",
      " |  Draw(...)\n",
      " |      Draw(self: netgen.libngpy._NgOCC.OCCGeometry) -> None\n",
      " |  \n",
      " |  GenerateMesh(...)\n",
      " |      GenerateMesh(self: netgen.libngpy._NgOCC.OCCGeometry, mp: netgen.libngpy._meshing.MeshingParameters = None, comm: pyngcore.pyngcore.MPI_Comm = <pyngcore.pyngcore.MPI_Comm object at 0x000001577D25ABF0>, mesh: netgen.libngpy._meshing.Mesh = None, **kwargs) -> netgen.libngpy._meshing.Mesh\n",
      " |      \n",
      " |      \n",
      " |      Meshing Parameters\n",
      " |      -------------------\n",
      " |      \n",
      " |      maxh: float = 1e10\n",
      " |        Global upper bound for mesh size.\n",
      " |      \n",
      " |      grading: float = 0.3\n",
      " |        Mesh grading how fast the local mesh size can change.\n",
      " |      \n",
      " |      meshsizefilename: str = None\n",
      " |        Load meshsize from file. Can set local mesh size for points\n",
      " |        and along edges. File must have the format:\n",
      " |      \n",
      " |          nr_points\n",
      " |          x1, y1, z1, meshsize\n",
      " |          x2, y2, z2, meshsize\n",
      " |          ...\n",
      " |          xn, yn, zn, meshsize\n",
      " |      \n",
      " |          nr_edges\n",
      " |          x11, y11, z11, x12, y12, z12, meshsize\n",
      " |          ...\n",
      " |          xn1, yn1, zn1, xn2, yn2, zn2, meshsize\n",
      " |      \n",
      " |      segmentsperedge: float = 1.\n",
      " |        Minimal number of segments per edge.\n",
      " |      \n",
      " |      quad_dominated: bool = False\n",
      " |        Quad-dominated surface meshing.\n",
      " |      \n",
      " |      blockfill: bool = True\n",
      " |        Do fast blockfilling.\n",
      " |      \n",
      " |      filldist: float = 0.1\n",
      " |        Block fill up to distance\n",
      " |      \n",
      " |      delaunay: bool = True\n",
      " |        Use delaunay meshing.\n",
      " |      \n",
      " |      delaunay2d : bool = True\n",
      " |        Use delaunay meshing for 2d geometries.\n",
      " |      \n",
      " |      Optimization Parameters\n",
      " |      -----------------------\n",
      " |      \n",
      " |      optimize3d: str = \"cmdmustm\"\n",
      " |        3d optimization strategy:\n",
      " |          m .. move nodes\n",
      " |          M .. move nodes, cheap functional\n",
      " |          s .. swap faces\n",
      " |          c .. combine elements\n",
      " |          d .. divide elements\n",
      " |          p .. plot, no pause\n",
      " |          P .. plot, Pause\n",
      " |          h .. Histogramm, no pause\n",
      " |          H .. Histogramm, pause\n",
      " |      \n",
      " |      optsteps3d: int = 3\n",
      " |        Number of 3d optimization steps.\n",
      " |      \n",
      " |      optimize2d: str = \"smcmSmcmSmcm\"\n",
      " |        2d optimization strategy:\n",
      " |          s .. swap, opt 6 lines/node\n",
      " |          S .. swap, optimal elements\n",
      " |          m .. move nodes\n",
      " |          p .. plot, no pause\n",
      " |          P .. plot, pause\n",
      " |          c .. combine\n",
      " |      \n",
      " |      optsteps2d: int = 3\n",
      " |        Number of 2d optimization steps.\n",
      " |      \n",
      " |      elsizeweight: float = 0.2\n",
      " |        Weight of element size w.r.t. element shape in optimization.\n",
      " |      \n",
      " |      \n",
      " |      OCC Specific Meshing Parameters\n",
      " |      -------------------------------\n",
      " |      \n",
      " |      closeedgefac: Optional[float] = 2.\n",
      " |        Factor for meshing close edges, if None it is disabled.\n",
      " |      \n",
      " |      minedgelen: Optional[float] = 0.001\n",
      " |        Minimum edge length to be used for dividing edges to mesh points. If\n",
      " |        None this is disabled.\n",
      " |  \n",
      " |  Glue(...)\n",
      " |      Glue(self: netgen.libngpy._NgOCC.OCCGeometry) -> None\n",
      " |  \n",
      " |  Heal(...)\n",
      " |      Heal(self: netgen.libngpy._NgOCC.OCCGeometry, tolerance: float = 0.001, fixsmalledges: bool = True, fixspotstripfaces: bool = True, sewfaces: bool = True, makesolids: bool = True, splitpartitions: bool = False) -> None\n",
      " |      \n",
      " |      Heal the OCCGeometry.\n",
      " |  \n",
      " |  SetFaceMeshsize(...)\n",
      " |      SetFaceMeshsize(self: netgen.libngpy._NgOCC.OCCGeometry, arg0: int, arg1: float) -> None\n",
      " |      \n",
      " |      Set maximum meshsize for face fnr. Face numbers are 0 based.\n",
      " |  \n",
      " |  __getstate__(...)\n",
      " |      __getstate__(self: netgen.libngpy._NgOCC.OCCGeometry) -> tuple\n",
      " |  \n",
      " |  __init__(...)\n",
      " |      __init__(*args, **kwargs)\n",
      " |      Overloaded function.\n",
      " |      \n",
      " |      1. __init__(self: netgen.libngpy._NgOCC.OCCGeometry, shape: netgen.libngpy._NgOCC.TopoDS_Shape, dim: int = 3, copy: bool = False) -> None\n",
      " |      \n",
      " |      Create Netgen OCCGeometry from existing TopoDS_Shape\n",
      " |      \n",
      " |      2. __init__(self: netgen.libngpy._NgOCC.OCCGeometry, shape: list[netgen.libngpy._NgOCC.TopoDS_Shape]) -> None\n",
      " |      \n",
      " |      Create Netgen OCCGeometry from existing TopoDS_Shape\n",
      " |      \n",
      " |      3. __init__(self: netgen.libngpy._NgOCC.OCCGeometry, filename: str, dim: int = 3) -> None\n",
      " |      \n",
      " |      Load OCC geometry from step, brep or iges file\n",
      " |  \n",
      " |  __setstate__(...)\n",
      " |      __setstate__(self: netgen.libngpy._NgOCC.OCCGeometry, arg0: tuple) -> None\n",
      " |  \n",
      " |  ----------------------------------------------------------------------\n",
      " |  Readonly properties defined here:\n",
      " |  \n",
      " |  shape\n",
      " |  \n",
      " |  ----------------------------------------------------------------------\n",
      " |  Data descriptors defined here:\n",
      " |  \n",
      " |  __dict__\n",
      " |  \n",
      " |  ----------------------------------------------------------------------\n",
      " |  Methods inherited from netgen.libngpy._meshing.NetgenGeometry:\n",
      " |  \n",
      " |  RestrictH(...)\n",
      " |      RestrictH(self: netgen.libngpy._meshing.NetgenGeometry, arg0: netgen.libngpy._meshing.Point3d, arg1: float) -> None\n",
      " |  \n",
      " |  ----------------------------------------------------------------------\n",
      " |  Static methods inherited from pybind11_builtins.pybind11_object:\n",
      " |  \n",
      " |  __new__(*args, **kwargs) from pybind11_builtins.pybind11_type\n",
      " |      Create and return a new object.  See help(type) for accurate signature.\n",
      "\n",
      "8\n"
     ]
    },
    {
     "data": {
      "application/vnd.jupyter.widget-view+json": {
       "model_id": "f6c81859bf4c4e7da4d9bdc9728f02d8",
       "version_major": 2,
       "version_minor": 0
      },
      "text/plain": [
       "WebGuiWidget(layout=Layout(height='500px', width='100%'), value={'gui_settings': {}, 'ngsolve_version': '6.2.2…"
      ]
     },
     "metadata": {},
     "output_type": "display_data"
    },
    {
     "data": {
      "text/plain": [
       "BaseWebGuiScene"
      ]
     },
     "execution_count": 16,
     "metadata": {},
     "output_type": "execute_result"
    }
   ],
   "source": [
    "#help(unit_square)\n",
    "\n",
    "l = 1\n",
    "for i in range(1):\n",
    "    l = l/2\n",
    "\n",
    "print(l)\n",
    "\n",
    "netgen_mesh = unit_square.GenerateMesh(maxh=l,elsizeweight=0.2,optsteps2d=3)\n",
    "help(unit_square)\n",
    "mesh = Mesh(netgen_mesh)\n",
    "#help(mesh)\n",
    "unref_verts = mesh.vertices\n",
    "parent_el = mesh.ne\n",
    "#issues with this-> maskes certain spaces not work\n",
    "# mesh.Refine()\n",
    "# mesh.Refine()\n",
    "# mesh.Refine()\n",
    "\n",
    "H_h = H1(mesh,order=1)\n",
    "unref_dofnr = mesh.nv #H_h.ndof #mesh.ne\n",
    "\n",
    "#help(mesh)\n",
    "\n",
    "print(unref_dofnr)\n",
    "Draw(mesh)"
   ]
  },
  {
   "cell_type": "code",
   "execution_count": 17,
   "metadata": {},
   "outputs": [],
   "source": [
    "#v = mesh.vertices[0]\n",
    "#help(NodeId)"
   ]
  },
  {
   "cell_type": "code",
   "execution_count": 18,
   "metadata": {},
   "outputs": [],
   "source": [
    "#reftree = pyngcore.pyngcore.Array_S_S([4,4,3,3,5,5,1,1,1,1,1,1])\n",
    "\n",
    "#help(mesh.BuildRefinementTree())\n",
    "\n",
    "#mesh.RefineFromTree(reftree)\n",
    "\n",
    "#mesh.RefineHP(2,factor=0.135)"
   ]
  },
  {
   "cell_type": "code",
   "execution_count": 19,
   "metadata": {},
   "outputs": [
    {
     "name": "stdout",
     "output_type": "stream",
     "text": [
      "27\n"
     ]
    },
    {
     "data": {
      "application/vnd.jupyter.widget-view+json": {
       "model_id": "72d42bd92a544d1a9ec91595aa6ee880",
       "version_major": 2,
       "version_minor": 0
      },
      "text/plain": [
       "WebGuiWidget(layout=Layout(height='500px', width='100%'), value={'gui_settings': {}, 'ngsolve_version': '6.2.2…"
      ]
     },
     "metadata": {},
     "output_type": "display_data"
    },
    {
     "data": {
      "text/plain": [
       "BaseWebGuiScene"
      ]
     },
     "execution_count": 19,
     "metadata": {},
     "output_type": "execute_result"
    }
   ],
   "source": [
    "netgen_mesh.SplitPowellSabin()\n",
    "mesh.ngmesh.Update()\n",
    "\n",
    "mesh._updateBuffers()\n",
    "\n",
    "H_h.Update() \n",
    "\n",
    "# for v in mesh.vertices:\n",
    "#     print(mesh.GetParentVertices(v.nr))\n",
    "\n",
    "#might need to be number of faces in barycentrically refined mesh\n",
    "bary_dofnr = H_h.ndof #mesh.ne\n",
    "print(bary_dofnr)\n",
    "\n",
    "#help(H_h)\n",
    "# print(H_h.Prolongation())\n",
    "# help(H_h.Prolongation())\n",
    "Draw(mesh)\n",
    "\n",
    "# print(mesh.ne)\n",
    "# for el in mesh.Elements():\n",
    "#     print(el,el.faces)\n"
   ]
  },
  {
   "cell_type": "code",
   "execution_count": 20,
   "metadata": {},
   "outputs": [],
   "source": [
    "#H_h = H1(mesh,order=1)\n",
    "#help(H_h.Prolongation())\n",
    "# for el in mesh.Elements(BND):\n",
    "#     print(el.vertices)\n",
    "#     print(el.edges)\n",
    "#     print(el.faces)\n",
    "\n",
    "# print(mesh.Elements(BND).stop -1)"
   ]
  },
  {
   "cell_type": "code",
   "execution_count": 21,
   "metadata": {},
   "outputs": [],
   "source": [
    "# for el in mesh.Elements():\n",
    "#     print(el.nr)\n",
    "    #print(len(H_h.GetDofNrs(el)))\n",
    "    #print(mesh.GetParentElement(el))\n",
    "    # for v in el.vertices:\n",
    "    #     print(v.nr)\n",
    "    # print(el.edges)\n",
    "    # print(el.faces)"
   ]
  },
  {
   "cell_type": "code",
   "execution_count": 22,
   "metadata": {},
   "outputs": [],
   "source": [
    "# dofs_one_element = 3\n",
    "# element_per_dof = 14 #H_h.ndof//mesh.ne\n",
    "# # print(netgen_mesh.dim)\n",
    "# #bary_dofnr//unref_dofnr == 6 (for L2)\n",
    "# children = np.zeros((unref_dofnr,element_per_dof*dofs_one_element),dtype=np.int64) - 1\n",
    "\n",
    "# indices = np.zeros(unref_dofnr, dtype=np.int64)\n",
    "\n",
    "# occurences = np.zeros(bary_dofnr,dtype=np.int8)\n",
    "\n",
    "# for par in unref_verts:\n",
    "#     parent = par.nr\n",
    "#     #print(\"parent =\", parent)\n",
    "#     for el in par.elements:\n",
    "#         #print(el.nr)\n",
    "#         for dofnr in H_h.GetDofNrs(el):\n",
    "#             #print(dofnr)\n",
    "#             children[parent,indices[parent]] = dofnr\n",
    "#             indices[parent] += 1\n",
    "#             occurences[dofnr] += 1\n",
    "#         #help(el)\n",
    "#         #break\n",
    "\n",
    "# #print(children)\n",
    "\n",
    "\n",
    "# occurences[0:unref_dofnr] = 1\n",
    "\n",
    "#print(occurences)\n",
    "#TODO Count up occurences of dofs in children list (in mapping matrix just increment corresponding entry according to some rule)"
   ]
  },
  {
   "cell_type": "code",
   "execution_count": 23,
   "metadata": {},
   "outputs": [
    {
     "name": "stdout",
     "output_type": "stream",
     "text": [
      "       1       0       0       0       0       0       0       0     0.5       0     0.5 0.333333       0       0       0       0       0       0       0       0       0       0       0       0       0       0       0\n",
      "       0       1       0       0       0       0       0       0       0       0       0       0     0.5       0     0.5 0.333333       0       0       0       0       0       0       0       0       0       0       0\n",
      "       0       0       1       0       0       0       0       0       0       0       0       0       0       0       0       0     0.5       0     0.5 0.333333       0       0       0       0       0       0       0\n",
      "       0       0       0       1       0       0       0       0       0       0       0       0       0       0       0       0       0       0       0       0     0.5       0     0.5 0.333333       0       0       0\n",
      "       0       0       0       0       1       0       0       0     0.5     0.5       0 0.333333       0     0.5     0.5 0.333333       0       0       0       0       0       0       0       0     0.5 0.333333 0.333333\n",
      "       0       0       0       0       0       1       0       0       0       0       0       0     0.5     0.5       0 0.333333       0     0.5     0.5 0.333333       0       0       0       0       0 0.333333       0\n",
      "       0       0       0       0       0       0       1       0       0       0       0       0       0       0       0       0     0.5     0.5       0 0.333333       0     0.5     0.5 0.333333     0.5 0.333333 0.333333\n",
      "       0       0       0       0       0       0       0       1       0     0.5     0.5 0.333333       0       0       0       0       0       0       0       0     0.5     0.5       0 0.333333       0       0 0.333333\n",
      "\n"
     ]
    }
   ],
   "source": [
    "#Mapping from refined to coarse mesh\n",
    "\n",
    "\n",
    "data_length = 0\n",
    "\n",
    "for par in unref_verts:\n",
    "    for el in par.elements:\n",
    "        data_length += len(H_h.GetDofNrs(el))\n",
    "\n",
    "data = np.zeros(data_length)\n",
    "row_ind = np.empty(data_length, dtype=int)\n",
    "col_ind = np.empty(data_length, dtype=int)\n",
    "shape = (unref_dofnr,bary_dofnr)\n",
    "\n",
    "j = 0\n",
    "\n",
    "for par in unref_verts:\n",
    "    #v = mesh.vertices.__getitem__(i)\n",
    "    #print(v)\n",
    "    par_dofnr = H_h.GetDofNrs(par)[0]\n",
    "    par_nf = len(par.elements)\n",
    "    for el in par.elements:\n",
    "        ele = mesh.__getitem__(el)\n",
    "        for v in ele.vertices:\n",
    "            ver = mesh.__getitem__(v)\n",
    "            child_dofnr = H_h.GetDofNrs(v)[0]\n",
    "            #print(dofnr)\n",
    "            row_ind[j] = par_dofnr\n",
    "            col_ind[j] = child_dofnr\n",
    "            if par_dofnr == child_dofnr:\n",
    "                data[j] = 1/par_nf\n",
    "            elif len(ver.elements) == 6:\n",
    "                data[j] = 1/6\n",
    "            elif len(ver.elements) == 2:\n",
    "                data[j] = 1/2\n",
    "            else:\n",
    "                data[j] = 1/4\n",
    "            j += 1\n",
    "\n",
    "            \n",
    "# print(data)\n",
    "# print(row_ind)\n",
    "# print(col_ind)\n",
    "\n",
    "# sci_mat = sp.sparse.csr_matrix((data, (row_ind, col_ind)),shape)\n",
    "# print(sci_mat.todense())\n",
    "# sci_coo = sci_mat.tocoo()\n",
    "\n",
    "ng_mat = la.SparseMatrixdouble.CreateFromCOO(row_ind,col_ind,data, unref_dofnr,bary_dofnr)\n",
    "print(ng_mat.ToDense())"
   ]
  },
  {
   "cell_type": "code",
   "execution_count": 24,
   "metadata": {},
   "outputs": [],
   "source": [
    "#H_h = L2(mesh,order=0) \n",
    " \n",
    "\n",
    "\n",
    "gfu = GridFunction(H_h,multidim = unref_dofnr)\n",
    "\n"
   ]
  },
  {
   "cell_type": "code",
   "execution_count": 25,
   "metadata": {},
   "outputs": [],
   "source": [
    "#help(mesh)\n",
    "\n",
    "# for el in mesh.Elements():    \n",
    "#     dofnr = H_h.GetDofNrs(el)\n",
    "#     #print(H_h.GetDofNrs(el.faces[0])) #same result as above as each element only contains 1 face\n",
    "#     print(dofnr)"
   ]
  },
  {
   "cell_type": "code",
   "execution_count": 26,
   "metadata": {},
   "outputs": [
    {
     "name": "stdout",
     "output_type": "stream",
     "text": [
      "27\n"
     ]
    }
   ],
   "source": [
    "print(H_h.ndof)\n",
    "\n",
    "gfu.Set(0) \n",
    "\n",
    "# for i in range(unref_dofnr):\n",
    "#     for j in children[i,:]:\n",
    "#         # print(j)\n",
    "#         if j != -1:\n",
    "#             if occurences[j] == 1:\n",
    "#                 gfu.vecs[i][j] = 1.0\n",
    "#             elif occurences[j] == 2:\n",
    "#                 gfu.vecs[i][j] = 0.5\n",
    "#             elif occurences[j] == 4:\n",
    "#                 gfu.vecs[i][j] = 0.5\n",
    "#             elif occurences[j] == 6:\n",
    "#                 gfu.vecs[i][j] = 1/3\n",
    "\n",
    "\n",
    "\n",
    "\n",
    "#Draw(gfu, animate = True, min = 0, max = 2.0, deformation = False)"
   ]
  },
  {
   "cell_type": "code",
   "execution_count": 27,
   "metadata": {},
   "outputs": [
    {
     "data": {
      "application/vnd.jupyter.widget-view+json": {
       "model_id": "a2093b91926e408291a7790aa5979c1a",
       "version_major": 2,
       "version_minor": 0
      },
      "text/plain": [
       "WebGuiWidget(layout=Layout(height='500px', width='100%'), value={'gui_settings': {}, 'ngsolve_version': '6.2.2…"
      ]
     },
     "metadata": {},
     "output_type": "display_data"
    },
    {
     "data": {
      "text/plain": [
       "BaseWebGuiScene"
      ]
     },
     "execution_count": 27,
     "metadata": {},
     "output_type": "execute_result"
    }
   ],
   "source": [
    "dfu = GridFunction(H_h,multidim = unref_dofnr)\n",
    "#help(ng_mat)\n",
    "\n",
    "\n",
    "\n",
    "dfu.Set(0)\n",
    "for i in range(unref_dofnr):\n",
    "    #print(ng_mat.ToDense().NumPy()[:,i])\n",
    "    dfu.vecs[i][:] = ng_mat.ToDense().NumPy()[i,:]\n",
    "\n",
    "\n",
    "# for i in range(4):\n",
    "    #print(dfu.vecs[i][:].FV().NumPy())\n",
    "\n",
    "Draw(dfu, animate = False, min = 0, max = 2.0, deformation = False)"
   ]
  },
  {
   "cell_type": "code",
   "execution_count": 28,
   "metadata": {},
   "outputs": [
    {
     "data": {
      "application/vnd.jupyter.widget-view+json": {
       "model_id": "4784572b07e44ddf87569113616f5540",
       "version_major": 2,
       "version_minor": 0
      },
      "text/plain": [
       "WebGuiWidget(layout=Layout(height='500px', width='100%'), value={'gui_settings': {}, 'ngsolve_version': '6.2.2…"
      ]
     },
     "metadata": {},
     "output_type": "display_data"
    },
    {
     "data": {
      "text/plain": [
       "BaseWebGuiScene"
      ]
     },
     "execution_count": 28,
     "metadata": {},
     "output_type": "execute_result"
    }
   ],
   "source": [
    "netgen_mesh = unit_square.GenerateMesh(maxh=l)\n",
    "\n",
    "ref_mesh = Mesh(netgen_mesh)\n",
    "\n",
    "H_h = H1(ref_mesh,order=1)\n",
    "\n",
    "gfu = GridFunction(H_h,multidim = H_h.ndof)\n",
    "\n",
    "gfu.Set(0) \n",
    "\n",
    "for i in range(H_h.ndof):\n",
    "    gfu.vecs[i][i] = 1.0\n",
    "\n",
    "Draw(gfu, animate = False, min = 0, max = 2.0, deformation = False)"
   ]
  }
 ],
 "metadata": {
  "kernelspec": {
   "display_name": "Python 3",
   "language": "python",
   "name": "python3"
  },
  "language_info": {
   "codemirror_mode": {
    "name": "ipython",
    "version": 3
   },
   "file_extension": ".py",
   "mimetype": "text/x-python",
   "name": "python",
   "nbconvert_exporter": "python",
   "pygments_lexer": "ipython3",
   "version": "3.10.6"
  }
 },
 "nbformat": 4,
 "nbformat_minor": 2
}
