{
 "cells": [
  {
   "cell_type": "code",
   "execution_count": 1,
   "metadata": {},
   "outputs": [],
   "source": [
    "from ngsolve import *\n",
    "from ngsolve.webgui import Draw\n",
    "from netgen.occ import *\n",
    "import matplotlib.pyplot as plt\n",
    "import numpy as np\n",
    "import scipy as sp\n",
    "from netgen.csg import Pnt\n"
   ]
  },
  {
   "cell_type": "markdown",
   "metadata": {},
   "source": [
    "make mesh"
   ]
  },
  {
   "cell_type": "code",
   "execution_count": 2,
   "metadata": {},
   "outputs": [
    {
     "name": "stdout",
     "output_type": "stream",
     "text": [
      "Help on class BilinearForm in module ngsolve.comp:\n",
      "\n",
      "class BilinearForm(NGS_Object)\n",
      " |  Used to store the left hand side of a PDE. integrators (ngsolve.BFI)\n",
      " |  to it to implement your PDE. If the left hand side is linear\n",
      " |  you can use BilinearForm.Assemble to assemble it after adding\n",
      " |  your integrators. For nonlinear usage use BilinearForm.Apply or\n",
      " |  BilinearForm.AssembleLinearization instead of Bilinearform.Assemble.\n",
      " |  \n",
      " |  Parameters:\n",
      " |  \n",
      " |  space : ngsolve.FESpace\n",
      " |    The finite element space the bilinearform is defined on. This\n",
      " |    can be a compound FESpace for a mixed formulation.\n",
      " |  \n",
      " |  \n",
      " |   Keyword arguments can be:\n",
      " |  condense: bool = False\n",
      " |    (formerly known as 'eliminate_internal')\n",
      " |    Set up BilinearForm for static condensation of internal\n",
      " |    bubbles. Static condensation has to be done by user,\n",
      " |    this enables only the use of the members harmonic_extension,\n",
      " |    harmonic_extension_trans and inner_solve. Have a look at the\n",
      " |    documentation for further information.\n",
      " |  eliminate_internal: bool = False\n",
      " |    deprecated for static condensation, replaced by 'condense'\n",
      " |  \n",
      " |  keep_internal: bool = True\n",
      " |    store harmonic extension and inner inverse matrix from static condensation\n",
      " |    set to False to save memory, and recompute local matrices on demand\n",
      " |  \n",
      " |  store_inner: bool = False\n",
      " |    store inner element matrix (of static condensation)\n",
      " |  \n",
      " |  eliminate_hidden: bool = False\n",
      " |    Set up BilinearForm for static condensation of hidden\n",
      " |    dofs. May be overruled by eliminate_internal.\n",
      " |  print: bool = False\n",
      " |    Write additional information to testout file. \n",
      " |    This file must be set by ngsolve.SetTestoutFile. Use \n",
      " |    ngsolve.SetNumThreads(1) for serial output\n",
      " |  printelmat: bool = False\n",
      " |    Write element matrices to testout file\n",
      " |  symmetric: bool = False\n",
      " |    BilinearForm is symmetric.\n",
      " |    does not imply symmetric_storage, as used to be earlier\n",
      " |  \n",
      " |  symmetric_storage: bool = False\n",
      " |    Store only lower triangular part of sparse matrix.\n",
      " |  nonassemble: bool = False\n",
      " |    BilinearForm will not allocate memory for assembling.\n",
      " |    optimization feature for (nonlinear) problems where the\n",
      " |    form is only applied but never assembled.\n",
      " |  project: bool = False\n",
      " |    When calling bf.Assemble, all saved coarse matrices from\n",
      " |    mesh refinements are updated as well using a Galerkin projection\n",
      " |    of the matrix on the finest grid. This is needed to use the multigrid\n",
      " |    preconditioner with a changing bilinearform.\n",
      " |  nonsym_storage: bool = False\n",
      " |    (deprecated) The full matrix is stored, even if the symmetric flag is set.\n",
      " |  diagonal: bool = False\n",
      " |    Stores only the diagonal of the matrix.\n",
      " |  hermitian: bool = False\n",
      " |    matrix is hermitian.\n",
      " |  geom_free: bool = False\n",
      " |    when element matrices are independent of geometry, we store them \n",
      " |    only for the reference elements\n",
      " |  matrix_free_bdb: bool = False\n",
      " |    store BDB factors seperately\n",
      " |  nonlinear_matrix_free_bdb: bool = False\n",
      " |    store BDB factors seperately for nonlinear operators\n",
      " |  check_unused: bool = True\n",
      " |    If set prints warnings if not UNUSED_DOFS are not used.\n",
      " |  delete_zero_elements: double = unset\n",
      " |    remove all matrix entries smaller than this value from sparse matrix\n",
      " |  \n",
      " |  Method resolution order:\n",
      " |      BilinearForm\n",
      " |      NGS_Object\n",
      " |      pybind11_builtins.pybind11_object\n",
      " |      builtins.object\n",
      " |  \n",
      " |  Methods defined here:\n",
      " |  \n",
      " |  Add(...)\n",
      " |      Add(*args, **kwargs)\n",
      " |      Overloaded function.\n",
      " |      \n",
      " |      1. Add(self: ngsolve.comp.BilinearForm, integrator: ngsolve.fem.BFI) -> ngsolve.comp.BilinearForm\n",
      " |      \n",
      " |      \n",
      " |               Add integrator to bilinear form.\n",
      " |      \n",
      " |      Parameters:\n",
      " |      \n",
      " |      integrator : ngsolve.fem.BFI\n",
      " |        input bilinear form integrator\n",
      " |      \n",
      " |      \n",
      " |      \n",
      " |      2. Add(self: object, arg0: ngsolve.comp.SumOfIntegrals) -> object\n",
      " |  \n",
      " |  Apply(...)\n",
      " |      Apply(*args, **kwargs)\n",
      " |      Overloaded function.\n",
      " |      \n",
      " |      1. Apply(self: ngsolve.comp.BilinearForm, x: ngsolve.la.BaseVector, y: ngsolve.la.BaseVector) -> None\n",
      " |      \n",
      " |      \n",
      " |      Applies a (non-)linear variational formulation to x and stores the result in y.\n",
      " |      \n",
      " |      Parameters:\n",
      " |      \n",
      " |      x : ngsolve.BaseVector\n",
      " |        input vector\n",
      " |      \n",
      " |      y : ngsolve.BaseVector\n",
      " |        output vector\n",
      " |      \n",
      " |      \n",
      " |      \n",
      " |      2. Apply(self: ngsolve.comp.BilinearForm, u: ngsolve.la.BaseVector) -> ngsolve.la.DynamicVectorExpression\n",
      " |  \n",
      " |  Assemble(...)\n",
      " |      Assemble(self: ngsolve.comp.BilinearForm, reallocate: bool = False) -> ngsolve.comp.BilinearForm\n",
      " |      \n",
      " |      \n",
      " |      Assemble the bilinear form.\n",
      " |      \n",
      " |      Parameters:\n",
      " |      \n",
      " |      reallocate : bool\n",
      " |        input reallocate\n",
      " |  \n",
      " |  AssembleLinearization(...)\n",
      " |      AssembleLinearization(self: ngsolve.comp.BilinearForm, ulin: ngsolve.la.BaseVector, reallocate: bool = False) -> None\n",
      " |      \n",
      " |      \n",
      " |      Computes linearization of the bilinear form at given vecor.\n",
      " |      \n",
      " |      Parameters:\n",
      " |      \n",
      " |      ulin : ngsolve.la.BaseVector\n",
      " |        input vector\n",
      " |  \n",
      " |  ComputeInternal(...)\n",
      " |      ComputeInternal(self: ngsolve.comp.BilinearForm, u: ngsolve.la.BaseVector, f: ngsolve.la.BaseVector) -> None\n",
      " |      \n",
      " |      \n",
      " |      \n",
      " |      Parameters:\n",
      " |      \n",
      " |      u : ngsolve.la.BaseVector\n",
      " |        input vector\n",
      " |      \n",
      " |      f : ngsolve.la.BaseVector\n",
      " |        input right hand side\n",
      " |  \n",
      " |  DeleteMatrix(...)\n",
      " |      DeleteMatrix(self: ngsolve.comp.BilinearForm) -> None\n",
      " |  \n",
      " |  DeleteSpecialElements(...)\n",
      " |      DeleteSpecialElements(self: ngsolve.comp.BilinearForm) -> None\n",
      " |  \n",
      " |  Energy(...)\n",
      " |      Energy(self: ngsolve.comp.BilinearForm, x: ngsolve.la.BaseVector) -> float\n",
      " |      \n",
      " |      \n",
      " |      Computes the energy of EnergyIntegrators like SymbolicEnergy for given input vector.\n",
      " |      \n",
      " |      Parameters:\n",
      " |      \n",
      " |      x : ngsolve.la.BaseVector\n",
      " |        input vector\n",
      " |  \n",
      " |  Flux(...)\n",
      " |      Flux(self: ngsolve.comp.BilinearForm, gf: ngsolve.comp.GridFunction) -> ngsolve.fem.CoefficientFunction\n",
      " |      \n",
      " |      \n",
      " |      \n",
      " |      Parameters:\n",
      " |      \n",
      " |      gf : ngsolve.comp.GridFunction\n",
      " |        input GridFunction\n",
      " |  \n",
      " |  GetMatrixLevel(...)\n",
      " |      GetMatrixLevel(self: ngsolve.comp.BilinearForm, level: Optional[int] = None) -> BaseMatrix\n",
      " |      \n",
      " |      returns matrix from multigrid level, default is finest level\n",
      " |  \n",
      " |  SetPreconditioner(...)\n",
      " |      SetPreconditioner(self: ngsolve.comp.BilinearForm, arg0: ngcomp::Preconditioner) -> None\n",
      " |  \n",
      " |  UnsetPreconditioner(...)\n",
      " |      UnsetPreconditioner(self: ngsolve.comp.BilinearForm, arg0: ngcomp::Preconditioner) -> None\n",
      " |  \n",
      " |  __call__(...)\n",
      " |      __call__(self: ngsolve.comp.BilinearForm, gfu: ngsolve.comp.GridFunction, gfv: ngsolve.comp.GridFunction) -> float\n",
      " |  \n",
      " |  __iadd__(...)\n",
      " |      __iadd__(*args, **kwargs)\n",
      " |      Overloaded function.\n",
      " |      \n",
      " |      1. __iadd__(self: ngsolve.comp.BilinearForm, other: ngsolve.fem.BFI) -> ngsolve.comp.BilinearForm\n",
      " |      \n",
      " |      2. __iadd__(self: ngsolve.comp.BilinearForm, arg0: ngsolve.comp.SumOfIntegrals) -> ngsolve.comp.BilinearForm\n",
      " |      \n",
      " |      3. __iadd__(self: ngsolve.comp.BilinearForm, arg0: ngsolve.comp.Variation) -> ngsolve.comp.BilinearForm\n",
      " |  \n",
      " |  __init__(...)\n",
      " |      __init__(*args, **kwargs)\n",
      " |      Overloaded function.\n",
      " |      \n",
      " |      1. __init__(self: ngsolve.comp.BilinearForm, space: ngsolve.comp.FESpace, name: str = 'biform_from_py', **kwargs) -> None\n",
      " |      \n",
      " |      2. __init__(self: ngsolve.comp.BilinearForm, trialspace: ngsolve.comp.FESpace, testspace: ngsolve.comp.FESpace, name: str = 'biform_from_py', **kwargs) -> None\n",
      " |      \n",
      " |      3. __init__(self: ngsolve.comp.BilinearForm, arg0: ngsolve.comp.SumOfIntegrals, **kwargs) -> None\n",
      " |  \n",
      " |  __str__(...)\n",
      " |      __str__(self: ngsolve.comp.BilinearForm) -> str\n",
      " |  \n",
      " |  ----------------------------------------------------------------------\n",
      " |  Static methods defined here:\n",
      " |  \n",
      " |  __flags_doc__(...) from builtins.PyCapsule\n",
      " |      __flags_doc__() -> dict\n",
      " |  \n",
      " |  ----------------------------------------------------------------------\n",
      " |  Readonly properties defined here:\n",
      " |  \n",
      " |  components\n",
      " |      list of components for bilinearforms on compound-space\n",
      " |  \n",
      " |  condense\n",
      " |      use static condensation ?\n",
      " |  \n",
      " |  harmonic_extension\n",
      " |      harmonic_extension used for static condensaition\n",
      " |  \n",
      " |  harmonic_extension_trans\n",
      " |      harmonic_extension_trans used for static condensation\n",
      " |  \n",
      " |  inner_matrix\n",
      " |      inner_matrix of the bilinear form\n",
      " |  \n",
      " |  inner_solve\n",
      " |      inner_solve used for static condensation\n",
      " |  \n",
      " |  integrators\n",
      " |      integrators of the bilinear form\n",
      " |  \n",
      " |  loform\n",
      " |  \n",
      " |  mat\n",
      " |      matrix of the assembled bilinear form\n",
      " |  \n",
      " |  space\n",
      " |      fespace on which the bilinear form is defined on\n",
      " |  \n",
      " |  ----------------------------------------------------------------------\n",
      " |  Readonly properties inherited from NGS_Object:\n",
      " |  \n",
      " |  __memory__\n",
      " |  \n",
      " |  flags\n",
      " |  \n",
      " |  ----------------------------------------------------------------------\n",
      " |  Data descriptors inherited from NGS_Object:\n",
      " |  \n",
      " |  name\n",
      " |  \n",
      " |  ----------------------------------------------------------------------\n",
      " |  Static methods inherited from pybind11_builtins.pybind11_object:\n",
      " |  \n",
      " |  __new__(*args, **kwargs) from pybind11_builtins.pybind11_type\n",
      " |      Create and return a new object.  See help(type) for accurate signature.\n",
      "\n"
     ]
    }
   ],
   "source": [
    "netgen_mesh = unit_square.GenerateMesh(maxh=1.0)\n",
    "#netgen_dual = unit_square.GenerateMesh(maxh=1.0)\n",
    "#netgen_primal = unit_square.GenerateMesh(maxh=1.0)\n",
    "#mesh=Mesh(netgen_mesh) \n",
    "\n",
    "# elvol = Integrate(CoefficientFunction(1),mesh,element_wise=True)\n",
    "# h = [(2*vol)**(1/2) for vol in elvol]\n",
    "# print(min(h),max(h))\n",
    "#help(unit_square)\n",
    "help(BilinearForm)"
   ]
  },
  {
   "cell_type": "code",
   "execution_count": 3,
   "metadata": {},
   "outputs": [
    {
     "data": {
      "application/vnd.jupyter.widget-view+json": {
       "model_id": "d9bfa98dffd54defa73136db92d13485",
       "version_major": 2,
       "version_minor": 0
      },
      "text/plain": [
       "WebGuiWidget(layout=Layout(height='500px', width='100%'), value={'gui_settings': {}, 'ngsolve_version': '6.2.2…"
      ]
     },
     "metadata": {},
     "output_type": "display_data"
    },
    {
     "data": {
      "text/plain": [
       "BaseWebGuiScene"
      ]
     },
     "execution_count": 3,
     "metadata": {},
     "output_type": "execute_result"
    }
   ],
   "source": [
    "mesh = Mesh(netgen_mesh)\n",
    "\n",
    "#mesh.Refine()\n",
    "Draw(mesh)"
   ]
  },
  {
   "cell_type": "code",
   "execution_count": 4,
   "metadata": {},
   "outputs": [
    {
     "name": "stdout",
     "output_type": "stream",
     "text": [
      "4\n",
      "12\n"
     ]
    }
   ],
   "source": [
    "vertices = mesh.vertices\n",
    "n_v = mesh.nv\n",
    "old_f = mesh.nface\n",
    "print(n_v)\n",
    "\n",
    "#mesh.ngmesh.Refine()\n",
    "# mesh.ngmesh.Update()\n",
    "# mesh._updateBuffers()\n",
    "\n",
    "# mesh.Refine()\n",
    "\n",
    "# mesh.ngmesh.Update()\n",
    "# mesh.ngmesh.Save(\"mesh\")\n",
    "\n",
    "# del mesh\n",
    "\n",
    "\n",
    "# #mesh.ngmesh.Load(\"mesh.vol.gz\")\n",
    "\n",
    "# mesh = Mesh(\"mesh.vol.gz\")\n",
    "\n",
    "# mesh._updateBuffers()\n",
    "\n",
    "mesh.ngmesh.SplitPowellSabin()\n",
    "# mesh.ngmesh.Update()\n",
    "# mesh._updateBuffers()\n",
    "#macromesh = Mesh(mesh.ngmesh.macromesh)\n",
    "\n",
    "n_f = mesh.nface - old_f\n",
    "print(n_f)\n"
   ]
  },
  {
   "cell_type": "code",
   "execution_count": 5,
   "metadata": {},
   "outputs": [
    {
     "data": {
      "application/vnd.jupyter.widget-view+json": {
       "model_id": "2366e0b415494146840093f1ecbcc41d",
       "version_major": 2,
       "version_minor": 0
      },
      "text/plain": [
       "WebGuiWidget(layout=Layout(height='500px', width='100%'), value={'gui_settings': {}, 'ngsolve_version': '6.2.2…"
      ]
     },
     "metadata": {},
     "output_type": "display_data"
    },
    {
     "name": "stdout",
     "output_type": "stream",
     "text": [
      "V0 (0.0, 0.0)\n",
      "(F2, F3, F4, F5)\n",
      "V1 (1.0, 0.0)\n",
      "(F6, F7)\n",
      "V2 (1.0, 1.0)\n",
      "(F8, F9, F10, F11)\n",
      "V3 (0.0, 1.0000000000000002)\n",
      "(F12, F13)\n"
     ]
    }
   ],
   "source": [
    "\n",
    "#help(mesh)\n",
    "Draw(mesh)\n",
    "# for f in mesh.faces:\n",
    "#     print (f, f.vertices)\n",
    "\n",
    "data_length = 0\n",
    "\n",
    "for v in range(n_v):\n",
    "    vert = mesh.vertices[v]\n",
    "    print(vert, vert.point)\n",
    "    print(vert.faces)\n",
    "    data_length += len(vert.faces)\n",
    "\n"
   ]
  },
  {
   "cell_type": "code",
   "execution_count": 6,
   "metadata": {},
   "outputs": [
    {
     "name": "stdout",
     "output_type": "stream",
     "text": [
      " 0.0833333       0       0       0       0       0       0       0       0       0       0       0\n",
      "       0 0.0833333       0       0       0       0       0       0       0       0       0       0\n",
      "       0       0 0.0833333       0       0       0       0       0       0       0       0       0\n",
      "       0       0       0 0.0833333       0       0       0       0       0       0       0       0\n",
      "       0       0       0       0 0.0833333       0       0       0       0       0       0       0\n",
      "       0       0       0       0       0 0.0833333       0       0       0       0       0       0\n",
      "       0       0       0       0       0       0 0.0833333       0       0       0       0       0\n",
      "       0       0       0       0       0       0       0 0.0833333       0       0       0       0\n",
      "       0       0       0       0       0       0       0       0 0.0833333       0       0       0\n",
      "       0       0       0       0       0       0       0       0       0 0.0833333       0       0\n",
      "       0       0       0       0       0       0       0       0       0       0 0.0833333       0\n",
      "       0       0       0       0       0       0       0       0       0       0       0 0.0833333\n",
      "\n"
     ]
    }
   ],
   "source": [
    "# netgen_primal = unit_square.GenerateMesh(maxh=1.0)\n",
    "# primal_mesh = Mesh(netgen_primal)\n",
    "primal_space = H1(mesh, order=1)\n",
    "u_p = primal_space.TrialFunction()\n",
    "v_p = primal_space.TestFunction()\n",
    "\n",
    "# m_p = BilinearForm(primal_space)\n",
    "# m_p += u_p * v_p *dx\n",
    "# m_p.Assemble()\n",
    "\n",
    "dual_space = L2(mesh,order=0)\n",
    "u_d = dual_space.TrialFunction()\n",
    "v_d = dual_space.TestFunction()\n",
    "\n",
    "#help(H1(mesh, order=1))\n",
    "\n",
    "m_d = BilinearForm(dual_space) #trialspace=primal_space, testspace=dual_space) \n",
    "\n",
    "m_d += u_d * v_d * dx\n",
    "\n",
    "m_d.Assemble()\n",
    "\n",
    "print(m_d.mat.ToDense())\n",
    "\n",
    "#help(m.mat)"
   ]
  },
  {
   "cell_type": "code",
   "execution_count": 7,
   "metadata": {},
   "outputs": [
    {
     "name": "stdout",
     "output_type": "stream",
     "text": [
      "    0.25    0.25       0       0       0       0    0.25       0       0       0       0    0.25\n",
      "       0       0     0.5     0.5       0       0       0       0       0       0       0       0\n",
      "       0       0       0       0    0.25    0.25       0    0.25    0.25       0       0       0\n",
      "       0       0       0       0       0       0       0       0       0     0.5     0.5       0\n",
      "\n"
     ]
    }
   ],
   "source": [
    "data = np.empty(data_length)\n",
    "row_ind = np.empty(data_length, dtype=int)\n",
    "col_ind = np.empty(data_length, dtype=int)\n",
    "shape = (n_f,n_v)\n",
    "\n",
    "i = 0\n",
    "j = 0\n",
    "\n",
    "for v in vertices:\n",
    "    #v = mesh.vertices.__getitem__(i)\n",
    "    #print(v)\n",
    "    #vert = mesh.vertices[n_v]\n",
    "    coeff =  1/len(v.faces)\n",
    "    dofnr = dual_space.GetDofNrs(v)\n",
    "    for el in v.elements:\n",
    "        #print(f)\n",
    "        dofNr = dual_space.GetDofNrs(el)\n",
    "        #print(dofNr)\n",
    "        row_ind[j] = dofNr[0]\n",
    "        col_ind[j] = v.nr\n",
    "        data[j] = coeff\n",
    "        j += 1\n",
    "    \n",
    "    i += 1\n",
    "\n",
    "# print(data)\n",
    "# print(row_ind)\n",
    "# print(col_ind)\n",
    "\n",
    "# sci_mat = sp.sparse.csr_matrix((data, (row_ind, col_ind)),shape)\n",
    "# print(sci_mat.todense())\n",
    "# sci_coo = sci_mat.tocoo()\n",
    "\n",
    "ng_mat = la.SparseMatrixdouble.CreateFromCOO(row_ind,col_ind,data, n_f,n_v)\n",
    "print(ng_mat.T.ToDense())\n",
    "\n"
   ]
  },
  {
   "cell_type": "code",
   "execution_count": 8,
   "metadata": {},
   "outputs": [
    {
     "name": "stdout",
     "output_type": "stream",
     "text": [
      " 0.0208333       0       0       0\n",
      "       0 0.0416667       0       0\n",
      "       0       0 0.0208333       0\n",
      "       0       0       0 0.0416667\n",
      "\n"
     ]
    }
   ],
   "source": [
    "#print(m_p.mat.ToDense())\n",
    "\n",
    "M = ng_mat.T @ m_d.mat @ ng_mat\n",
    "\n",
    "print(M.ToDense())"
   ]
  },
  {
   "cell_type": "code",
   "execution_count": 9,
   "metadata": {},
   "outputs": [
    {
     "name": "stdout",
     "output_type": "stream",
     "text": [
      "0: 11111111111\n"
     ]
    }
   ],
   "source": [
    "\n",
    "\n",
    "#print(primal_space.CouplingType(0))\n",
    "# for i in range(primal_space.ndof):\n",
    "#     primal_space.SetCouplingType(i,COUPLING_TYPE.UNUSED_DOF)\n",
    "\n",
    "#primal_space.HideAllDofs()\n",
    "\n",
    "print(primal_space.FreeDofs())\n",
    "#Draw(macromesh)\n",
    "#print(macromesh.nv)\n"
   ]
  },
  {
   "cell_type": "code",
   "execution_count": 10,
   "metadata": {},
   "outputs": [],
   "source": [
    "#Doesnt work bc calc shape wnats floats\n",
    "# def lincomb(x, y, v, dual_space):\n",
    "\n",
    "#     func = 0\n",
    "\n",
    "\n",
    "#     faces = v.faces\n",
    "#     for el in dual_space.Elements():\n",
    "#         for f in faces:\n",
    "#             print(f)\n",
    "#             if f == el.faces[0]:\n",
    "#                 func += dual_space.GetFE(el).CalcShape(x=x,y=y)\n",
    "\n",
    "#     return func\n",
    "\n",
    "# for f in mesh.faces:\n",
    "#     print(f,f.vertices)\n",
    "\n",
    "\n",
    "\n",
    "#help(primal_space)\n"
   ]
  },
  {
   "cell_type": "code",
   "execution_count": 11,
   "metadata": {},
   "outputs": [
    {
     "name": "stdout",
     "output_type": "stream",
     "text": [
      "12\n"
     ]
    },
    {
     "data": {
      "application/vnd.jupyter.widget-view+json": {
       "model_id": "9331e30a1aff4e5c96d26be97de396b8",
       "version_major": 2,
       "version_minor": 0
      },
      "text/plain": [
       "WebGuiWidget(layout=Layout(height='500px', width='100%'), value={'gui_settings': {}, 'ngsolve_version': '6.2.2…"
      ]
     },
     "metadata": {},
     "output_type": "display_data"
    },
    {
     "data": {
      "text/plain": [
       "BaseWebGuiScene"
      ]
     },
     "execution_count": 11,
     "metadata": {},
     "output_type": "execute_result"
    }
   ],
   "source": [
    "print(dual_space.ndof)\n",
    "\n",
    "gfu = GridFunction(dual_space,multidim = dual_space.ndof)\n",
    "\n",
    "for i in range(dual_space.ndof):\n",
    "    gfu.vecs[i][i] = 1.0\n",
    "\n",
    "\n",
    "Draw(gfu, animate = True, min = 0, max = 1.0, deformation = False)"
   ]
  },
  {
   "cell_type": "code",
   "execution_count": 12,
   "metadata": {},
   "outputs": [
    {
     "data": {
      "application/vnd.jupyter.widget-view+json": {
       "model_id": "8769a2657961464b96fa99d4fe9e1eb9",
       "version_major": 2,
       "version_minor": 0
      },
      "text/plain": [
       "WebGuiWidget(layout=Layout(height='500px', width='100%'), value={'gui_settings': {}, 'ngsolve_version': '6.2.2…"
      ]
     },
     "metadata": {},
     "output_type": "display_data"
    },
    {
     "data": {
      "text/plain": [
       "BaseWebGuiScene"
      ]
     },
     "execution_count": 12,
     "metadata": {},
     "output_type": "execute_result"
    }
   ],
   "source": [
    "dfu = GridFunction(dual_space,multidim = n_v)\n",
    "#help(ng_mat)\n",
    "\n",
    "\n",
    "\n",
    "dfu.Set(0)\n",
    "for i in range(n_v):\n",
    "    #print(ng_mat.ToDense().NumPy()[:,i])\n",
    "    dfu.vecs[i][:] = ng_mat.ToDense().NumPy()[:,i]\n",
    "\n",
    "\n",
    "# for i in range(4):\n",
    "    #print(dfu.vecs[i][:].FV().NumPy())\n",
    "\n",
    "Draw(dfu, animate = True, min = 0, max = 0.5, deformation = False)"
   ]
  },
  {
   "cell_type": "code",
   "execution_count": 13,
   "metadata": {},
   "outputs": [
    {
     "data": {
      "application/vnd.jupyter.widget-view+json": {
       "model_id": "4f98f8471ca34a97b831bb87d5f31e13",
       "version_major": 2,
       "version_minor": 0
      },
      "text/plain": [
       "WebGuiWidget(layout=Layout(height='500px', width='100%'), value={'gui_settings': {}, 'ngsolve_version': '6.2.2…"
      ]
     },
     "metadata": {},
     "output_type": "display_data"
    },
    {
     "data": {
      "text/plain": [
       "BaseWebGuiScene"
      ]
     },
     "execution_count": 13,
     "metadata": {},
     "output_type": "execute_result"
    }
   ],
   "source": [
    "netgen_primal = unit_square.GenerateMesh(maxh=0.5)\n",
    "primal_mesh = Mesh(netgen_primal)\n",
    "primal_space = H1(primal_mesh, order=1)\n",
    "\n",
    "gfu = GridFunction(primal_space,multidim = primal_space.ndof)\n",
    "\n",
    "for i in range(primal_space.ndof):\n",
    "    gfu.vecs[i][i] = 1.0\n",
    "\n",
    "\n",
    "Draw(gfu, animate = True, min = 0, max = 1.0, deformation = False)"
   ]
  }
 ],
 "metadata": {
  "kernelspec": {
   "display_name": "Python 3",
   "language": "python",
   "name": "python3"
  },
  "language_info": {
   "codemirror_mode": {
    "name": "ipython",
    "version": 3
   },
   "file_extension": ".py",
   "mimetype": "text/x-python",
   "name": "python",
   "nbconvert_exporter": "python",
   "pygments_lexer": "ipython3",
   "version": "3.10.6"
  }
 },
 "nbformat": 4,
 "nbformat_minor": 2
}
