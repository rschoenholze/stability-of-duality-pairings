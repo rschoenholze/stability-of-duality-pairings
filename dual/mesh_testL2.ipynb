{
 "cells": [
  {
   "cell_type": "code",
   "execution_count": 51,
   "metadata": {},
   "outputs": [],
   "source": [
    "from ngsolve import *\n",
    "from ngsolve.webgui import Draw\n",
    "from netgen.occ import *\n",
    "import matplotlib.pyplot as plt\n",
    "import numpy as np\n",
    "import scipy as sp\n",
    "from netgen.csg import Pnt\n"
   ]
  },
  {
   "cell_type": "code",
   "execution_count": 52,
   "metadata": {},
   "outputs": [
    {
     "name": "stdout",
     "output_type": "stream",
     "text": [
      "6\n"
     ]
    },
    {
     "data": {
      "application/vnd.jupyter.widget-view+json": {
       "model_id": "e243cb93a0364343936141005a85fb80",
       "version_major": 2,
       "version_minor": 0
      },
      "text/plain": [
       "WebGuiWidget(layout=Layout(height='500px', width='100%'), value={'gui_settings': {}, 'ngsolve_version': '6.2.2…"
      ]
     },
     "metadata": {},
     "output_type": "display_data"
    },
    {
     "data": {
      "text/plain": [
       "BaseWebGuiScene"
      ]
     },
     "execution_count": 52,
     "metadata": {},
     "output_type": "execute_result"
    }
   ],
   "source": [
    "#help(unit_square)\n",
    "netgen_mesh = unit_square.GenerateMesh(maxh=0.5)\n",
    "#print(netgen_mesh.MacroElementNr(...))\n",
    "\n",
    "mesh = Mesh(netgen_mesh)\n",
    "#help(mesh)\n",
    "#issues with this-> maskes certain spaces not work\n",
    "# mesh.Refine()\n",
    "# mesh.Refine()\n",
    "# mesh.Refine()\n",
    "#other spaces dont work\n",
    "\n",
    "#might need to be number of faces (in unrefined mesh) because elements are have 1 face\n",
    "unref_dofnr = mesh.ne #mesh.ne\n",
    "print(unref_dofnr)\n",
    "Draw(mesh)"
   ]
  },
  {
   "cell_type": "code",
   "execution_count": 53,
   "metadata": {},
   "outputs": [
    {
     "name": "stdout",
     "output_type": "stream",
     "text": [
      "36\n"
     ]
    },
    {
     "data": {
      "application/vnd.jupyter.widget-view+json": {
       "model_id": "b4c859125caa45bf8d102be407299f68",
       "version_major": 2,
       "version_minor": 0
      },
      "text/plain": [
       "WebGuiWidget(layout=Layout(height='500px', width='100%'), value={'gui_settings': {}, 'ngsolve_version': '6.2.2…"
      ]
     },
     "metadata": {},
     "output_type": "display_data"
    },
    {
     "data": {
      "text/plain": [
       "BaseWebGuiScene"
      ]
     },
     "execution_count": 53,
     "metadata": {},
     "output_type": "execute_result"
    }
   ],
   "source": [
    "\n",
    "\n",
    "mesh.ngmesh.SplitPowellSabin()\n",
    "mesh.ngmesh.Update()\n",
    "\n",
    "#mesh._updateBuffers()\n",
    "\n",
    "\n",
    "H_h = Compress(L2(mesh,order=0))\n",
    " \n",
    "\n",
    "\n",
    "\n",
    "#might need to be number of faces in barycentrically refined mesh\n",
    "bary_dofnr = H_h.ndof #mesh.ne\n",
    "print(bary_dofnr)\n",
    "\n",
    "#mesh._updateBuffers()\n",
    "\n",
    "\n",
    "Draw(mesh)"
   ]
  },
  {
   "cell_type": "code",
   "execution_count": 54,
   "metadata": {},
   "outputs": [],
   "source": [
    "#H_h = H1(mesh,order=1)\n",
    "#help(H_h.Prolongation())"
   ]
  },
  {
   "cell_type": "code",
   "execution_count": 55,
   "metadata": {},
   "outputs": [
    {
     "name": "stdout",
     "output_type": "stream",
     "text": [
      "F0 (V0, V4, V7)\n",
      "F1 (V1, V4, V5)\n",
      "F2 (V2, V5, V6)\n",
      "F3 (V3, V6, V7)\n",
      "F4 (V4, V5, V6)\n",
      "F5 (V4, V6, V7)\n",
      "F6 (V0, V8, V11)\n",
      "F7 (V0, V10, V11)\n",
      "F8 (V1, V12, V15)\n",
      "F9 (V1, V14, V15)\n",
      "F10 (V2, V16, V19)\n",
      "F11 (V2, V18, V19)\n",
      "F12 (V3, V20, V23)\n",
      "F13 (V3, V22, V23)\n",
      "F14 (V4, V8, V11)\n",
      "F15 (V4, V9, V11)\n",
      "F16 (V4, V9, V26)\n",
      "F17 (V4, V13, V15)\n",
      "F18 (V4, V13, V25)\n",
      "F19 (V4, V14, V15)\n",
      "F20 (V4, V24, V25)\n",
      "F21 (V4, V24, V26)\n",
      "F22 (V5, V12, V15)\n",
      "F23 (V5, V13, V15)\n",
      "F24 (V5, V13, V25)\n",
      "F25 (V5, V17, V19)\n",
      "F26 (V5, V17, V25)\n",
      "F27 (V5, V18, V19)\n",
      "F28 (V6, V16, V19)\n",
      "F29 (V6, V17, V19)\n",
      "F30 (V6, V17, V25)\n",
      "F31 (V6, V21, V23)\n",
      "F32 (V6, V21, V26)\n",
      "F33 (V6, V22, V23)\n",
      "F34 (V6, V24, V25)\n",
      "F35 (V6, V24, V26)\n",
      "F36 (V7, V9, V11)\n",
      "F37 (V7, V9, V26)\n",
      "F38 (V7, V10, V11)\n",
      "F39 (V7, V20, V23)\n",
      "F40 (V7, V21, V23)\n",
      "F41 (V7, V21, V26)\n"
     ]
    }
   ],
   "source": [
    "# for el in mesh.Elements():\n",
    "#     print(el.nr)\n",
    "    #print(len(H_h.GetDofNrs(el)))\n",
    "    #print(mesh.GetParentElement(el))\n",
    "    # for v in el.vertices:\n",
    "    #     print(v.nr)\n",
    "    # print(el.edges)\n",
    "    # print(el.faces)\n",
    "\n",
    "for f in mesh.faces:\n",
    "    print(f,f.vertices)"
   ]
  },
  {
   "cell_type": "code",
   "execution_count": 56,
   "metadata": {},
   "outputs": [
    {
     "name": "stdout",
     "output_type": "stream",
     "text": [
      "[[ 0  6  7  8  9 10]\n",
      " [ 1 11 12 13 14 15]\n",
      " [ 2 16 17 18 19 20]\n",
      " [ 3 21 22 23 24 25]\n",
      " [ 4 26 27 28 29 30]\n",
      " [ 5 31 32 33 34 35]]\n"
     ]
    }
   ],
   "source": [
    " #H_h.ndof//mesh.ne\n",
    "# print(netgen_mesh.dim)\n",
    "#bary_dofnr//unref_dofnr == 6 (for L2)\n",
    "children = np.empty((unref_dofnr,6),dtype=np.int64)\n",
    "\n",
    "indices = np.zeros(unref_dofnr, dtype=np.int64)\n",
    "\n",
    "for el in mesh.Elements():\n",
    "    #print(el.nr)\n",
    "    parent = netgen_mesh.MacroElementNr(el.nr)\n",
    "    for dofnr in H_h.GetDofNrs(el):\n",
    "        children[parent,indices[parent]] = dofnr\n",
    "        indices[parent] += 1\n",
    "    #help(el)\n",
    "    #break\n",
    "\n",
    "print(children)\n"
   ]
  },
  {
   "cell_type": "code",
   "execution_count": 57,
   "metadata": {},
   "outputs": [
    {
     "name": "stdout",
     "output_type": "stream",
     "text": [
      "       1       0       0       0       0       0       1       1       1       1       1       0       0       0       0       0       0       0       0       0       0       0       0       0       0       0       0       0       0       0       0       0       0       0       0       0\n",
      "       0       1       0       0       0       0       0       0       0       0       0       1       1       1       1       1       0       0       0       0       0       0       0       0       0       0       0       0       0       0       0       0       0       0       0       0\n",
      "       0       0       1       0       0       0       0       0       0       0       0       0       0       0       0       0       1       1       1       1       1       0       0       0       0       0       0       0       0       0       0       0       0       0       0       0\n",
      "       0       0       0       1       0       0       0       0       0       0       0       0       0       0       0       0       0       0       0       0       0       1       1       1       1       1       0       0       0       0       0       0       0       0       0       0\n",
      "       0       0       0       0       1       0       0       0       0       0       0       0       0       0       0       0       0       0       0       0       0       0       0       0       0       0       1       1       1       1       1       0       0       0       0       0\n",
      "       0       0       0       0       0       1       0       0       0       0       0       0       0       0       0       0       0       0       0       0       0       0       0       0       0       0       0       0       0       0       0       1       1       1       1       1\n",
      "\n"
     ]
    }
   ],
   "source": [
    "#L2 fine to coarse mapping\n",
    "\n",
    "data_length = mesh.ne\n",
    "data = np.zeros(data_length)\n",
    "row_ind = np.zeros(data_length, dtype=int)\n",
    "col_ind = np.zeros(data_length, dtype=int)\n",
    "shape = (mesh.ne/6,mesh.ne)\n",
    "\n",
    "j = 0\n",
    "\n",
    "for el in mesh.Elements():\n",
    "    #print(el.nr)\n",
    "    parent = netgen_mesh.MacroElementNr(el.nr)\n",
    "    for dofnr in H_h.GetDofNrs(el):\n",
    "        row_ind[j] = parent\n",
    "        col_ind[j] = dofnr\n",
    "        data[j] = 1\n",
    "        j += 1\n",
    "    #help(el)\n",
    "    #break\n",
    "\n",
    "\n",
    "\n",
    "ng_mat = la.SparseMatrixdouble.CreateFromCOO(row_ind,col_ind,data, mesh.ne//6,mesh.ne)\n",
    "print(ng_mat.ToDense())"
   ]
  },
  {
   "cell_type": "code",
   "execution_count": 58,
   "metadata": {},
   "outputs": [
    {
     "data": {
      "application/vnd.jupyter.widget-view+json": {
       "model_id": "2b6b62b6b7d345959c914942fc171280",
       "version_major": 2,
       "version_minor": 0
      },
      "text/plain": [
       "WebGuiWidget(layout=Layout(height='500px', width='100%'), value={'gui_settings': {}, 'ngsolve_version': '6.2.2…"
      ]
     },
     "metadata": {},
     "output_type": "display_data"
    },
    {
     "data": {
      "text/plain": [
       "BaseWebGuiScene"
      ]
     },
     "execution_count": 58,
     "metadata": {},
     "output_type": "execute_result"
    }
   ],
   "source": [
    "dfu = GridFunction(H_h,multidim = unref_dofnr)\n",
    "#help(ng_mat)\n",
    "\n",
    "\n",
    "\n",
    "dfu.Set(0)\n",
    "for i in range(unref_dofnr):\n",
    "    #print(ng_mat.ToDense().NumPy()[:,i])\n",
    "    dfu.vecs[:][i] = ng_mat.ToDense().NumPy()[i,:]\n",
    "\n",
    "\n",
    "# for i in range(4):\n",
    "    #print(dfu.vecs[i][:].FV().NumPy())\n",
    "\n",
    "Draw(dfu, animate = True, min = 0, max = 0.5, deformation = False)"
   ]
  },
  {
   "cell_type": "code",
   "execution_count": 59,
   "metadata": {},
   "outputs": [],
   "source": [
    "#H_h = L2(mesh,order=0) \n",
    " \n",
    "\n",
    "\n",
    "gfu = GridFunction(H_h,multidim = unref_dofnr)\n",
    "\n"
   ]
  },
  {
   "cell_type": "code",
   "execution_count": 60,
   "metadata": {},
   "outputs": [],
   "source": [
    "#help(mesh)\n",
    "\n",
    "# for el in mesh.Elements():    \n",
    "#     dofnr = H_h.GetDofNrs(el)\n",
    "#     #print(H_h.GetDofNrs(el.faces[0])) #same result as above as each element only contains 1 face\n",
    "#     print(dofnr)"
   ]
  },
  {
   "cell_type": "code",
   "execution_count": 61,
   "metadata": {},
   "outputs": [
    {
     "name": "stdout",
     "output_type": "stream",
     "text": [
      "36\n"
     ]
    },
    {
     "data": {
      "application/vnd.jupyter.widget-view+json": {
       "model_id": "edc463393fe243e5bd6b372d2b39d65b",
       "version_major": 2,
       "version_minor": 0
      },
      "text/plain": [
       "WebGuiWidget(layout=Layout(height='500px', width='100%'), value={'gui_settings': {}, 'ngsolve_version': '6.2.2…"
      ]
     },
     "metadata": {},
     "output_type": "display_data"
    },
    {
     "data": {
      "text/plain": [
       "BaseWebGuiScene"
      ]
     },
     "execution_count": 61,
     "metadata": {},
     "output_type": "execute_result"
    }
   ],
   "source": [
    "print(H_h.ndof)\n",
    "\n",
    "for i in range(unref_dofnr):\n",
    "    for j in children[i,:]:\n",
    "        #print(j)\n",
    "        gfu.vecs[i][j] = 2.0\n",
    "\n",
    "\n",
    "Draw(gfu, animate = True, min = 0, max = 2.0, deformation = False)"
   ]
  }
 ],
 "metadata": {
  "kernelspec": {
   "display_name": "Python 3",
   "language": "python",
   "name": "python3"
  },
  "language_info": {
   "codemirror_mode": {
    "name": "ipython",
    "version": 3
   },
   "file_extension": ".py",
   "mimetype": "text/x-python",
   "name": "python",
   "nbconvert_exporter": "python",
   "pygments_lexer": "ipython3",
   "version": "3.10.6"
  }
 },
 "nbformat": 4,
 "nbformat_minor": 2
}
